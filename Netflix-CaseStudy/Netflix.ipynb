{
  "nbformat": 4,
  "nbformat_minor": 0,
  "metadata": {
    "colab": {
      "provenance": []
    },
    "kernelspec": {
      "name": "python3",
      "display_name": "Python 3"
    },
    "language_info": {
      "name": "python"
    }
  },
  "cells": [
    {
      "cell_type": "markdown",
      "source": [
        "#        **Welcome to Netflix Data Analysis** \n"
      ],
      "metadata": {
        "id": "Ywzpn0nKRzH-"
      }
    },
    {
      "cell_type": "markdown",
      "source": [
        "![unnamed.jpg](data:image/jpeg;base64,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)"
      ],
      "metadata": {
        "id": "EqO8YlbTR2Iv"
      }
    },
    {
      "cell_type": "markdown",
      "source": [
        "# **My Approach would be to**:\n",
        "\n",
        "*   First Understand the given data\n",
        "*   Find missing or duplicated values if any and fill those missing values accordingly\n",
        "*   Find insights like which country has highest shows,Actor who acted in most films,Which day most films where released etc.,plot them and find relation among them.\n",
        "\n",
        "\n"
      ],
      "metadata": {
        "id": "yuRj68KMSm16"
      }
    },
    {
      "cell_type": "code",
      "execution_count": null,
      "metadata": {
        "id": "mcEMvyVXLVth"
      },
      "outputs": [],
      "source": [
        "#first we will import all the important \n",
        "import numpy as np\n",
        "import pandas as pd\n",
        "import matplotlib.pyplot as plt\n",
        "import seaborn as sns\n",
        "\n"
      ]
    },
    {
      "cell_type": "code",
      "source": [
        "#then we import files either from upload as csv or reading directly from link\n",
        "# df=pd.read_csv(\"https://d2beiqkhq929f0.cloudfront.net/public_assets/assets/000/000/940/original/netflix.csv\")\n",
        "df=pd.read_csv(\"/content/netflix.csv\")"
      ],
      "metadata": {
        "id": "EOo7hf_uUYpy"
      },
      "execution_count": null,
      "outputs": []
    },
    {
      "cell_type": "code",
      "source": [
        "#then we find Info of data\n",
        "df.info()"
      ],
      "metadata": {
        "colab": {
          "base_uri": "https://localhost:8080/"
        },
        "id": "ds7NlBI1UsfH",
        "outputId": "c0856b04-b2cc-473a-9f2d-2869b4506472"
      },
      "execution_count": null,
      "outputs": [
        {
          "output_type": "stream",
          "name": "stdout",
          "text": [
            "<class 'pandas.core.frame.DataFrame'>\n",
            "RangeIndex: 8807 entries, 0 to 8806\n",
            "Data columns (total 12 columns):\n",
            " #   Column        Non-Null Count  Dtype \n",
            "---  ------        --------------  ----- \n",
            " 0   show_id       8807 non-null   object\n",
            " 1   type          8807 non-null   object\n",
            " 2   title         8807 non-null   object\n",
            " 3   director      6173 non-null   object\n",
            " 4   cast          7982 non-null   object\n",
            " 5   country       7976 non-null   object\n",
            " 6   date_added    8797 non-null   object\n",
            " 7   release_year  8807 non-null   int64 \n",
            " 8   rating        8803 non-null   object\n",
            " 9   duration      8804 non-null   object\n",
            " 10  listed_in     8807 non-null   object\n",
            " 11  description   8807 non-null   object\n",
            "dtypes: int64(1), object(11)\n",
            "memory usage: 825.8+ KB\n"
          ]
        }
      ]
    },
    {
      "cell_type": "code",
      "source": [
        "df.describe(include=[\"int64\",\"object\"])\n",
        "#we find details of data"
      ],
      "metadata": {
        "colab": {
          "base_uri": "https://localhost:8080/",
          "height": 528
        },
        "id": "mExS9LyMVhGD",
        "outputId": "17f970f5-fb6c-47fe-8e01-ad588da65520"
      },
      "execution_count": null,
      "outputs": [
        {
          "output_type": "execute_result",
          "data": {
            "text/plain": [
              "       show_id   type                 title       director  \\\n",
              "count     8807   8807                  8807           6173   \n",
              "unique    8807      2                  8807           4528   \n",
              "top         s1  Movie  Dick Johnson Is Dead  Rajiv Chilaka   \n",
              "freq         1   6131                     1             19   \n",
              "mean       NaN    NaN                   NaN            NaN   \n",
              "std        NaN    NaN                   NaN            NaN   \n",
              "min        NaN    NaN                   NaN            NaN   \n",
              "25%        NaN    NaN                   NaN            NaN   \n",
              "50%        NaN    NaN                   NaN            NaN   \n",
              "75%        NaN    NaN                   NaN            NaN   \n",
              "max        NaN    NaN                   NaN            NaN   \n",
              "\n",
              "                      cast        country       date_added  release_year  \\\n",
              "count                 7982           7976             8797   8807.000000   \n",
              "unique                7692            748             1767           NaN   \n",
              "top     David Attenborough  United States  January 1, 2020           NaN   \n",
              "freq                    19           2818              109           NaN   \n",
              "mean                   NaN            NaN              NaN   2014.180198   \n",
              "std                    NaN            NaN              NaN      8.819312   \n",
              "min                    NaN            NaN              NaN   1925.000000   \n",
              "25%                    NaN            NaN              NaN   2013.000000   \n",
              "50%                    NaN            NaN              NaN   2017.000000   \n",
              "75%                    NaN            NaN              NaN   2019.000000   \n",
              "max                    NaN            NaN              NaN   2021.000000   \n",
              "\n",
              "       rating  duration                     listed_in  \\\n",
              "count    8803      8804                          8807   \n",
              "unique     17       220                           514   \n",
              "top     TV-MA  1 Season  Dramas, International Movies   \n",
              "freq     3207      1793                           362   \n",
              "mean      NaN       NaN                           NaN   \n",
              "std       NaN       NaN                           NaN   \n",
              "min       NaN       NaN                           NaN   \n",
              "25%       NaN       NaN                           NaN   \n",
              "50%       NaN       NaN                           NaN   \n",
              "75%       NaN       NaN                           NaN   \n",
              "max       NaN       NaN                           NaN   \n",
              "\n",
              "                                              description  \n",
              "count                                                8807  \n",
              "unique                                               8775  \n",
              "top     Paranormal activity at a lush, abandoned prope...  \n",
              "freq                                                    4  \n",
              "mean                                                  NaN  \n",
              "std                                                   NaN  \n",
              "min                                                   NaN  \n",
              "25%                                                   NaN  \n",
              "50%                                                   NaN  \n",
              "75%                                                   NaN  \n",
              "max                                                   NaN  "
            ],
            "text/html": [
              "\n",
              "  <div id=\"df-e0a67933-2059-435c-9f09-117ed04ef71b\">\n",
              "    <div class=\"colab-df-container\">\n",
              "      <div>\n",
              "<style scoped>\n",
              "    .dataframe tbody tr th:only-of-type {\n",
              "        vertical-align: middle;\n",
              "    }\n",
              "\n",
              "    .dataframe tbody tr th {\n",
              "        vertical-align: top;\n",
              "    }\n",
              "\n",
              "    .dataframe thead th {\n",
              "        text-align: right;\n",
              "    }\n",
              "</style>\n",
              "<table border=\"1\" class=\"dataframe\">\n",
              "  <thead>\n",
              "    <tr style=\"text-align: right;\">\n",
              "      <th></th>\n",
              "      <th>show_id</th>\n",
              "      <th>type</th>\n",
              "      <th>title</th>\n",
              "      <th>director</th>\n",
              "      <th>cast</th>\n",
              "      <th>country</th>\n",
              "      <th>date_added</th>\n",
              "      <th>release_year</th>\n",
              "      <th>rating</th>\n",
              "      <th>duration</th>\n",
              "      <th>listed_in</th>\n",
              "      <th>description</th>\n",
              "    </tr>\n",
              "  </thead>\n",
              "  <tbody>\n",
              "    <tr>\n",
              "      <th>count</th>\n",
              "      <td>8807</td>\n",
              "      <td>8807</td>\n",
              "      <td>8807</td>\n",
              "      <td>6173</td>\n",
              "      <td>7982</td>\n",
              "      <td>7976</td>\n",
              "      <td>8797</td>\n",
              "      <td>8807.000000</td>\n",
              "      <td>8803</td>\n",
              "      <td>8804</td>\n",
              "      <td>8807</td>\n",
              "      <td>8807</td>\n",
              "    </tr>\n",
              "    <tr>\n",
              "      <th>unique</th>\n",
              "      <td>8807</td>\n",
              "      <td>2</td>\n",
              "      <td>8807</td>\n",
              "      <td>4528</td>\n",
              "      <td>7692</td>\n",
              "      <td>748</td>\n",
              "      <td>1767</td>\n",
              "      <td>NaN</td>\n",
              "      <td>17</td>\n",
              "      <td>220</td>\n",
              "      <td>514</td>\n",
              "      <td>8775</td>\n",
              "    </tr>\n",
              "    <tr>\n",
              "      <th>top</th>\n",
              "      <td>s1</td>\n",
              "      <td>Movie</td>\n",
              "      <td>Dick Johnson Is Dead</td>\n",
              "      <td>Rajiv Chilaka</td>\n",
              "      <td>David Attenborough</td>\n",
              "      <td>United States</td>\n",
              "      <td>January 1, 2020</td>\n",
              "      <td>NaN</td>\n",
              "      <td>TV-MA</td>\n",
              "      <td>1 Season</td>\n",
              "      <td>Dramas, International Movies</td>\n",
              "      <td>Paranormal activity at a lush, abandoned prope...</td>\n",
              "    </tr>\n",
              "    <tr>\n",
              "      <th>freq</th>\n",
              "      <td>1</td>\n",
              "      <td>6131</td>\n",
              "      <td>1</td>\n",
              "      <td>19</td>\n",
              "      <td>19</td>\n",
              "      <td>2818</td>\n",
              "      <td>109</td>\n",
              "      <td>NaN</td>\n",
              "      <td>3207</td>\n",
              "      <td>1793</td>\n",
              "      <td>362</td>\n",
              "      <td>4</td>\n",
              "    </tr>\n",
              "    <tr>\n",
              "      <th>mean</th>\n",
              "      <td>NaN</td>\n",
              "      <td>NaN</td>\n",
              "      <td>NaN</td>\n",
              "      <td>NaN</td>\n",
              "      <td>NaN</td>\n",
              "      <td>NaN</td>\n",
              "      <td>NaN</td>\n",
              "      <td>2014.180198</td>\n",
              "      <td>NaN</td>\n",
              "      <td>NaN</td>\n",
              "      <td>NaN</td>\n",
              "      <td>NaN</td>\n",
              "    </tr>\n",
              "    <tr>\n",
              "      <th>std</th>\n",
              "      <td>NaN</td>\n",
              "      <td>NaN</td>\n",
              "      <td>NaN</td>\n",
              "      <td>NaN</td>\n",
              "      <td>NaN</td>\n",
              "      <td>NaN</td>\n",
              "      <td>NaN</td>\n",
              "      <td>8.819312</td>\n",
              "      <td>NaN</td>\n",
              "      <td>NaN</td>\n",
              "      <td>NaN</td>\n",
              "      <td>NaN</td>\n",
              "    </tr>\n",
              "    <tr>\n",
              "      <th>min</th>\n",
              "      <td>NaN</td>\n",
              "      <td>NaN</td>\n",
              "      <td>NaN</td>\n",
              "      <td>NaN</td>\n",
              "      <td>NaN</td>\n",
              "      <td>NaN</td>\n",
              "      <td>NaN</td>\n",
              "      <td>1925.000000</td>\n",
              "      <td>NaN</td>\n",
              "      <td>NaN</td>\n",
              "      <td>NaN</td>\n",
              "      <td>NaN</td>\n",
              "    </tr>\n",
              "    <tr>\n",
              "      <th>25%</th>\n",
              "      <td>NaN</td>\n",
              "      <td>NaN</td>\n",
              "      <td>NaN</td>\n",
              "      <td>NaN</td>\n",
              "      <td>NaN</td>\n",
              "      <td>NaN</td>\n",
              "      <td>NaN</td>\n",
              "      <td>2013.000000</td>\n",
              "      <td>NaN</td>\n",
              "      <td>NaN</td>\n",
              "      <td>NaN</td>\n",
              "      <td>NaN</td>\n",
              "    </tr>\n",
              "    <tr>\n",
              "      <th>50%</th>\n",
              "      <td>NaN</td>\n",
              "      <td>NaN</td>\n",
              "      <td>NaN</td>\n",
              "      <td>NaN</td>\n",
              "      <td>NaN</td>\n",
              "      <td>NaN</td>\n",
              "      <td>NaN</td>\n",
              "      <td>2017.000000</td>\n",
              "      <td>NaN</td>\n",
              "      <td>NaN</td>\n",
              "      <td>NaN</td>\n",
              "      <td>NaN</td>\n",
              "    </tr>\n",
              "    <tr>\n",
              "      <th>75%</th>\n",
              "      <td>NaN</td>\n",
              "      <td>NaN</td>\n",
              "      <td>NaN</td>\n",
              "      <td>NaN</td>\n",
              "      <td>NaN</td>\n",
              "      <td>NaN</td>\n",
              "      <td>NaN</td>\n",
              "      <td>2019.000000</td>\n",
              "      <td>NaN</td>\n",
              "      <td>NaN</td>\n",
              "      <td>NaN</td>\n",
              "      <td>NaN</td>\n",
              "    </tr>\n",
              "    <tr>\n",
              "      <th>max</th>\n",
              "      <td>NaN</td>\n",
              "      <td>NaN</td>\n",
              "      <td>NaN</td>\n",
              "      <td>NaN</td>\n",
              "      <td>NaN</td>\n",
              "      <td>NaN</td>\n",
              "      <td>NaN</td>\n",
              "      <td>2021.000000</td>\n",
              "      <td>NaN</td>\n",
              "      <td>NaN</td>\n",
              "      <td>NaN</td>\n",
              "      <td>NaN</td>\n",
              "    </tr>\n",
              "  </tbody>\n",
              "</table>\n",
              "</div>\n",
              "      <button class=\"colab-df-convert\" onclick=\"convertToInteractive('df-e0a67933-2059-435c-9f09-117ed04ef71b')\"\n",
              "              title=\"Convert this dataframe to an interactive table.\"\n",
              "              style=\"display:none;\">\n",
              "        \n",
              "  <svg xmlns=\"http://www.w3.org/2000/svg\" height=\"24px\"viewBox=\"0 0 24 24\"\n",
              "       width=\"24px\">\n",
              "    <path d=\"M0 0h24v24H0V0z\" fill=\"none\"/>\n",
              "    <path d=\"M18.56 5.44l.94 2.06.94-2.06 2.06-.94-2.06-.94-.94-2.06-.94 2.06-2.06.94zm-11 1L8.5 8.5l.94-2.06 2.06-.94-2.06-.94L8.5 2.5l-.94 2.06-2.06.94zm10 10l.94 2.06.94-2.06 2.06-.94-2.06-.94-.94-2.06-.94 2.06-2.06.94z\"/><path d=\"M17.41 7.96l-1.37-1.37c-.4-.4-.92-.59-1.43-.59-.52 0-1.04.2-1.43.59L10.3 9.45l-7.72 7.72c-.78.78-.78 2.05 0 2.83L4 21.41c.39.39.9.59 1.41.59.51 0 1.02-.2 1.41-.59l7.78-7.78 2.81-2.81c.8-.78.8-2.07 0-2.86zM5.41 20L4 18.59l7.72-7.72 1.47 1.35L5.41 20z\"/>\n",
              "  </svg>\n",
              "      </button>\n",
              "      \n",
              "  <style>\n",
              "    .colab-df-container {\n",
              "      display:flex;\n",
              "      flex-wrap:wrap;\n",
              "      gap: 12px;\n",
              "    }\n",
              "\n",
              "    .colab-df-convert {\n",
              "      background-color: #E8F0FE;\n",
              "      border: none;\n",
              "      border-radius: 50%;\n",
              "      cursor: pointer;\n",
              "      display: none;\n",
              "      fill: #1967D2;\n",
              "      height: 32px;\n",
              "      padding: 0 0 0 0;\n",
              "      width: 32px;\n",
              "    }\n",
              "\n",
              "    .colab-df-convert:hover {\n",
              "      background-color: #E2EBFA;\n",
              "      box-shadow: 0px 1px 2px rgba(60, 64, 67, 0.3), 0px 1px 3px 1px rgba(60, 64, 67, 0.15);\n",
              "      fill: #174EA6;\n",
              "    }\n",
              "\n",
              "    [theme=dark] .colab-df-convert {\n",
              "      background-color: #3B4455;\n",
              "      fill: #D2E3FC;\n",
              "    }\n",
              "\n",
              "    [theme=dark] .colab-df-convert:hover {\n",
              "      background-color: #434B5C;\n",
              "      box-shadow: 0px 1px 3px 1px rgba(0, 0, 0, 0.15);\n",
              "      filter: drop-shadow(0px 1px 2px rgba(0, 0, 0, 0.3));\n",
              "      fill: #FFFFFF;\n",
              "    }\n",
              "  </style>\n",
              "\n",
              "      <script>\n",
              "        const buttonEl =\n",
              "          document.querySelector('#df-e0a67933-2059-435c-9f09-117ed04ef71b button.colab-df-convert');\n",
              "        buttonEl.style.display =\n",
              "          google.colab.kernel.accessAllowed ? 'block' : 'none';\n",
              "\n",
              "        async function convertToInteractive(key) {\n",
              "          const element = document.querySelector('#df-e0a67933-2059-435c-9f09-117ed04ef71b');\n",
              "          const dataTable =\n",
              "            await google.colab.kernel.invokeFunction('convertToInteractive',\n",
              "                                                     [key], {});\n",
              "          if (!dataTable) return;\n",
              "\n",
              "          const docLinkHtml = 'Like what you see? Visit the ' +\n",
              "            '<a target=\"_blank\" href=https://colab.research.google.com/notebooks/data_table.ipynb>data table notebook</a>'\n",
              "            + ' to learn more about interactive tables.';\n",
              "          element.innerHTML = '';\n",
              "          dataTable['output_type'] = 'display_data';\n",
              "          await google.colab.output.renderOutput(dataTable, element);\n",
              "          const docLink = document.createElement('div');\n",
              "          docLink.innerHTML = docLinkHtml;\n",
              "          element.appendChild(docLink);\n",
              "        }\n",
              "      </script>\n",
              "    </div>\n",
              "  </div>\n",
              "  "
            ]
          },
          "metadata": {},
          "execution_count": 150
        }
      ]
    },
    {
      "cell_type": "code",
      "source": [
        "df.head(10)\n",
        "#first 10 rows"
      ],
      "metadata": {
        "colab": {
          "base_uri": "https://localhost:8080/",
          "height": 1000
        },
        "id": "i6ZPCQmnVsNj",
        "outputId": "e212a353-c0b3-4607-a082-f4c6b3463f89"
      },
      "execution_count": null,
      "outputs": [
        {
          "output_type": "execute_result",
          "data": {
            "text/plain": [
              "  show_id     type                             title  \\\n",
              "0      s1    Movie              Dick Johnson Is Dead   \n",
              "1      s2  TV Show                     Blood & Water   \n",
              "2      s3  TV Show                         Ganglands   \n",
              "3      s4  TV Show             Jailbirds New Orleans   \n",
              "4      s5  TV Show                      Kota Factory   \n",
              "5      s6  TV Show                     Midnight Mass   \n",
              "6      s7    Movie  My Little Pony: A New Generation   \n",
              "7      s8    Movie                           Sankofa   \n",
              "8      s9  TV Show     The Great British Baking Show   \n",
              "9     s10    Movie                      The Starling   \n",
              "\n",
              "                        director  \\\n",
              "0                Kirsten Johnson   \n",
              "1                            NaN   \n",
              "2                Julien Leclercq   \n",
              "3                            NaN   \n",
              "4                            NaN   \n",
              "5                  Mike Flanagan   \n",
              "6  Robert Cullen, José Luis Ucha   \n",
              "7                   Haile Gerima   \n",
              "8                Andy Devonshire   \n",
              "9                 Theodore Melfi   \n",
              "\n",
              "                                                cast  \\\n",
              "0                                                NaN   \n",
              "1  Ama Qamata, Khosi Ngema, Gail Mabalane, Thaban...   \n",
              "2  Sami Bouajila, Tracy Gotoas, Samuel Jouy, Nabi...   \n",
              "3                                                NaN   \n",
              "4  Mayur More, Jitendra Kumar, Ranjan Raj, Alam K...   \n",
              "5  Kate Siegel, Zach Gilford, Hamish Linklater, H...   \n",
              "6  Vanessa Hudgens, Kimiko Glenn, James Marsden, ...   \n",
              "7  Kofi Ghanaba, Oyafunmike Ogunlano, Alexandra D...   \n",
              "8  Mel Giedroyc, Sue Perkins, Mary Berry, Paul Ho...   \n",
              "9  Melissa McCarthy, Chris O'Dowd, Kevin Kline, T...   \n",
              "\n",
              "                                             country          date_added  \\\n",
              "0                                      United States  September 25, 2021   \n",
              "1                                       South Africa  September 24, 2021   \n",
              "2                                                NaN  September 24, 2021   \n",
              "3                                                NaN  September 24, 2021   \n",
              "4                                              India  September 24, 2021   \n",
              "5                                                NaN  September 24, 2021   \n",
              "6                                                NaN  September 24, 2021   \n",
              "7  United States, Ghana, Burkina Faso, United Kin...  September 24, 2021   \n",
              "8                                     United Kingdom  September 24, 2021   \n",
              "9                                      United States  September 24, 2021   \n",
              "\n",
              "   release_year rating   duration  \\\n",
              "0          2020  PG-13     90 min   \n",
              "1          2021  TV-MA  2 Seasons   \n",
              "2          2021  TV-MA   1 Season   \n",
              "3          2021  TV-MA   1 Season   \n",
              "4          2021  TV-MA  2 Seasons   \n",
              "5          2021  TV-MA   1 Season   \n",
              "6          2021     PG     91 min   \n",
              "7          1993  TV-MA    125 min   \n",
              "8          2021  TV-14  9 Seasons   \n",
              "9          2021  PG-13    104 min   \n",
              "\n",
              "                                           listed_in  \\\n",
              "0                                      Documentaries   \n",
              "1    International TV Shows, TV Dramas, TV Mysteries   \n",
              "2  Crime TV Shows, International TV Shows, TV Act...   \n",
              "3                             Docuseries, Reality TV   \n",
              "4  International TV Shows, Romantic TV Shows, TV ...   \n",
              "5                 TV Dramas, TV Horror, TV Mysteries   \n",
              "6                           Children & Family Movies   \n",
              "7   Dramas, Independent Movies, International Movies   \n",
              "8                       British TV Shows, Reality TV   \n",
              "9                                   Comedies, Dramas   \n",
              "\n",
              "                                         description  \n",
              "0  As her father nears the end of his life, filmm...  \n",
              "1  After crossing paths at a party, a Cape Town t...  \n",
              "2  To protect his family from a powerful drug lor...  \n",
              "3  Feuds, flirtations and toilet talk go down amo...  \n",
              "4  In a city of coaching centers known to train I...  \n",
              "5  The arrival of a charismatic young priest brin...  \n",
              "6  Equestria's divided. But a bright-eyed hero be...  \n",
              "7  On a photo shoot in Ghana, an American model s...  \n",
              "8  A talented batch of amateur bakers face off in...  \n",
              "9  A woman adjusting to life after a loss contend...  "
            ],
            "text/html": [
              "\n",
              "  <div id=\"df-e5f8c0ec-6f62-44cd-b863-d179df94a867\">\n",
              "    <div class=\"colab-df-container\">\n",
              "      <div>\n",
              "<style scoped>\n",
              "    .dataframe tbody tr th:only-of-type {\n",
              "        vertical-align: middle;\n",
              "    }\n",
              "\n",
              "    .dataframe tbody tr th {\n",
              "        vertical-align: top;\n",
              "    }\n",
              "\n",
              "    .dataframe thead th {\n",
              "        text-align: right;\n",
              "    }\n",
              "</style>\n",
              "<table border=\"1\" class=\"dataframe\">\n",
              "  <thead>\n",
              "    <tr style=\"text-align: right;\">\n",
              "      <th></th>\n",
              "      <th>show_id</th>\n",
              "      <th>type</th>\n",
              "      <th>title</th>\n",
              "      <th>director</th>\n",
              "      <th>cast</th>\n",
              "      <th>country</th>\n",
              "      <th>date_added</th>\n",
              "      <th>release_year</th>\n",
              "      <th>rating</th>\n",
              "      <th>duration</th>\n",
              "      <th>listed_in</th>\n",
              "      <th>description</th>\n",
              "    </tr>\n",
              "  </thead>\n",
              "  <tbody>\n",
              "    <tr>\n",
              "      <th>0</th>\n",
              "      <td>s1</td>\n",
              "      <td>Movie</td>\n",
              "      <td>Dick Johnson Is Dead</td>\n",
              "      <td>Kirsten Johnson</td>\n",
              "      <td>NaN</td>\n",
              "      <td>United States</td>\n",
              "      <td>September 25, 2021</td>\n",
              "      <td>2020</td>\n",
              "      <td>PG-13</td>\n",
              "      <td>90 min</td>\n",
              "      <td>Documentaries</td>\n",
              "      <td>As her father nears the end of his life, filmm...</td>\n",
              "    </tr>\n",
              "    <tr>\n",
              "      <th>1</th>\n",
              "      <td>s2</td>\n",
              "      <td>TV Show</td>\n",
              "      <td>Blood &amp; Water</td>\n",
              "      <td>NaN</td>\n",
              "      <td>Ama Qamata, Khosi Ngema, Gail Mabalane, Thaban...</td>\n",
              "      <td>South Africa</td>\n",
              "      <td>September 24, 2021</td>\n",
              "      <td>2021</td>\n",
              "      <td>TV-MA</td>\n",
              "      <td>2 Seasons</td>\n",
              "      <td>International TV Shows, TV Dramas, TV Mysteries</td>\n",
              "      <td>After crossing paths at a party, a Cape Town t...</td>\n",
              "    </tr>\n",
              "    <tr>\n",
              "      <th>2</th>\n",
              "      <td>s3</td>\n",
              "      <td>TV Show</td>\n",
              "      <td>Ganglands</td>\n",
              "      <td>Julien Leclercq</td>\n",
              "      <td>Sami Bouajila, Tracy Gotoas, Samuel Jouy, Nabi...</td>\n",
              "      <td>NaN</td>\n",
              "      <td>September 24, 2021</td>\n",
              "      <td>2021</td>\n",
              "      <td>TV-MA</td>\n",
              "      <td>1 Season</td>\n",
              "      <td>Crime TV Shows, International TV Shows, TV Act...</td>\n",
              "      <td>To protect his family from a powerful drug lor...</td>\n",
              "    </tr>\n",
              "    <tr>\n",
              "      <th>3</th>\n",
              "      <td>s4</td>\n",
              "      <td>TV Show</td>\n",
              "      <td>Jailbirds New Orleans</td>\n",
              "      <td>NaN</td>\n",
              "      <td>NaN</td>\n",
              "      <td>NaN</td>\n",
              "      <td>September 24, 2021</td>\n",
              "      <td>2021</td>\n",
              "      <td>TV-MA</td>\n",
              "      <td>1 Season</td>\n",
              "      <td>Docuseries, Reality TV</td>\n",
              "      <td>Feuds, flirtations and toilet talk go down amo...</td>\n",
              "    </tr>\n",
              "    <tr>\n",
              "      <th>4</th>\n",
              "      <td>s5</td>\n",
              "      <td>TV Show</td>\n",
              "      <td>Kota Factory</td>\n",
              "      <td>NaN</td>\n",
              "      <td>Mayur More, Jitendra Kumar, Ranjan Raj, Alam K...</td>\n",
              "      <td>India</td>\n",
              "      <td>September 24, 2021</td>\n",
              "      <td>2021</td>\n",
              "      <td>TV-MA</td>\n",
              "      <td>2 Seasons</td>\n",
              "      <td>International TV Shows, Romantic TV Shows, TV ...</td>\n",
              "      <td>In a city of coaching centers known to train I...</td>\n",
              "    </tr>\n",
              "    <tr>\n",
              "      <th>5</th>\n",
              "      <td>s6</td>\n",
              "      <td>TV Show</td>\n",
              "      <td>Midnight Mass</td>\n",
              "      <td>Mike Flanagan</td>\n",
              "      <td>Kate Siegel, Zach Gilford, Hamish Linklater, H...</td>\n",
              "      <td>NaN</td>\n",
              "      <td>September 24, 2021</td>\n",
              "      <td>2021</td>\n",
              "      <td>TV-MA</td>\n",
              "      <td>1 Season</td>\n",
              "      <td>TV Dramas, TV Horror, TV Mysteries</td>\n",
              "      <td>The arrival of a charismatic young priest brin...</td>\n",
              "    </tr>\n",
              "    <tr>\n",
              "      <th>6</th>\n",
              "      <td>s7</td>\n",
              "      <td>Movie</td>\n",
              "      <td>My Little Pony: A New Generation</td>\n",
              "      <td>Robert Cullen, José Luis Ucha</td>\n",
              "      <td>Vanessa Hudgens, Kimiko Glenn, James Marsden, ...</td>\n",
              "      <td>NaN</td>\n",
              "      <td>September 24, 2021</td>\n",
              "      <td>2021</td>\n",
              "      <td>PG</td>\n",
              "      <td>91 min</td>\n",
              "      <td>Children &amp; Family Movies</td>\n",
              "      <td>Equestria's divided. But a bright-eyed hero be...</td>\n",
              "    </tr>\n",
              "    <tr>\n",
              "      <th>7</th>\n",
              "      <td>s8</td>\n",
              "      <td>Movie</td>\n",
              "      <td>Sankofa</td>\n",
              "      <td>Haile Gerima</td>\n",
              "      <td>Kofi Ghanaba, Oyafunmike Ogunlano, Alexandra D...</td>\n",
              "      <td>United States, Ghana, Burkina Faso, United Kin...</td>\n",
              "      <td>September 24, 2021</td>\n",
              "      <td>1993</td>\n",
              "      <td>TV-MA</td>\n",
              "      <td>125 min</td>\n",
              "      <td>Dramas, Independent Movies, International Movies</td>\n",
              "      <td>On a photo shoot in Ghana, an American model s...</td>\n",
              "    </tr>\n",
              "    <tr>\n",
              "      <th>8</th>\n",
              "      <td>s9</td>\n",
              "      <td>TV Show</td>\n",
              "      <td>The Great British Baking Show</td>\n",
              "      <td>Andy Devonshire</td>\n",
              "      <td>Mel Giedroyc, Sue Perkins, Mary Berry, Paul Ho...</td>\n",
              "      <td>United Kingdom</td>\n",
              "      <td>September 24, 2021</td>\n",
              "      <td>2021</td>\n",
              "      <td>TV-14</td>\n",
              "      <td>9 Seasons</td>\n",
              "      <td>British TV Shows, Reality TV</td>\n",
              "      <td>A talented batch of amateur bakers face off in...</td>\n",
              "    </tr>\n",
              "    <tr>\n",
              "      <th>9</th>\n",
              "      <td>s10</td>\n",
              "      <td>Movie</td>\n",
              "      <td>The Starling</td>\n",
              "      <td>Theodore Melfi</td>\n",
              "      <td>Melissa McCarthy, Chris O'Dowd, Kevin Kline, T...</td>\n",
              "      <td>United States</td>\n",
              "      <td>September 24, 2021</td>\n",
              "      <td>2021</td>\n",
              "      <td>PG-13</td>\n",
              "      <td>104 min</td>\n",
              "      <td>Comedies, Dramas</td>\n",
              "      <td>A woman adjusting to life after a loss contend...</td>\n",
              "    </tr>\n",
              "  </tbody>\n",
              "</table>\n",
              "</div>\n",
              "      <button class=\"colab-df-convert\" onclick=\"convertToInteractive('df-e5f8c0ec-6f62-44cd-b863-d179df94a867')\"\n",
              "              title=\"Convert this dataframe to an interactive table.\"\n",
              "              style=\"display:none;\">\n",
              "        \n",
              "  <svg xmlns=\"http://www.w3.org/2000/svg\" height=\"24px\"viewBox=\"0 0 24 24\"\n",
              "       width=\"24px\">\n",
              "    <path d=\"M0 0h24v24H0V0z\" fill=\"none\"/>\n",
              "    <path d=\"M18.56 5.44l.94 2.06.94-2.06 2.06-.94-2.06-.94-.94-2.06-.94 2.06-2.06.94zm-11 1L8.5 8.5l.94-2.06 2.06-.94-2.06-.94L8.5 2.5l-.94 2.06-2.06.94zm10 10l.94 2.06.94-2.06 2.06-.94-2.06-.94-.94-2.06-.94 2.06-2.06.94z\"/><path d=\"M17.41 7.96l-1.37-1.37c-.4-.4-.92-.59-1.43-.59-.52 0-1.04.2-1.43.59L10.3 9.45l-7.72 7.72c-.78.78-.78 2.05 0 2.83L4 21.41c.39.39.9.59 1.41.59.51 0 1.02-.2 1.41-.59l7.78-7.78 2.81-2.81c.8-.78.8-2.07 0-2.86zM5.41 20L4 18.59l7.72-7.72 1.47 1.35L5.41 20z\"/>\n",
              "  </svg>\n",
              "      </button>\n",
              "      \n",
              "  <style>\n",
              "    .colab-df-container {\n",
              "      display:flex;\n",
              "      flex-wrap:wrap;\n",
              "      gap: 12px;\n",
              "    }\n",
              "\n",
              "    .colab-df-convert {\n",
              "      background-color: #E8F0FE;\n",
              "      border: none;\n",
              "      border-radius: 50%;\n",
              "      cursor: pointer;\n",
              "      display: none;\n",
              "      fill: #1967D2;\n",
              "      height: 32px;\n",
              "      padding: 0 0 0 0;\n",
              "      width: 32px;\n",
              "    }\n",
              "\n",
              "    .colab-df-convert:hover {\n",
              "      background-color: #E2EBFA;\n",
              "      box-shadow: 0px 1px 2px rgba(60, 64, 67, 0.3), 0px 1px 3px 1px rgba(60, 64, 67, 0.15);\n",
              "      fill: #174EA6;\n",
              "    }\n",
              "\n",
              "    [theme=dark] .colab-df-convert {\n",
              "      background-color: #3B4455;\n",
              "      fill: #D2E3FC;\n",
              "    }\n",
              "\n",
              "    [theme=dark] .colab-df-convert:hover {\n",
              "      background-color: #434B5C;\n",
              "      box-shadow: 0px 1px 3px 1px rgba(0, 0, 0, 0.15);\n",
              "      filter: drop-shadow(0px 1px 2px rgba(0, 0, 0, 0.3));\n",
              "      fill: #FFFFFF;\n",
              "    }\n",
              "  </style>\n",
              "\n",
              "      <script>\n",
              "        const buttonEl =\n",
              "          document.querySelector('#df-e5f8c0ec-6f62-44cd-b863-d179df94a867 button.colab-df-convert');\n",
              "        buttonEl.style.display =\n",
              "          google.colab.kernel.accessAllowed ? 'block' : 'none';\n",
              "\n",
              "        async function convertToInteractive(key) {\n",
              "          const element = document.querySelector('#df-e5f8c0ec-6f62-44cd-b863-d179df94a867');\n",
              "          const dataTable =\n",
              "            await google.colab.kernel.invokeFunction('convertToInteractive',\n",
              "                                                     [key], {});\n",
              "          if (!dataTable) return;\n",
              "\n",
              "          const docLinkHtml = 'Like what you see? Visit the ' +\n",
              "            '<a target=\"_blank\" href=https://colab.research.google.com/notebooks/data_table.ipynb>data table notebook</a>'\n",
              "            + ' to learn more about interactive tables.';\n",
              "          element.innerHTML = '';\n",
              "          dataTable['output_type'] = 'display_data';\n",
              "          await google.colab.output.renderOutput(dataTable, element);\n",
              "          const docLink = document.createElement('div');\n",
              "          docLink.innerHTML = docLinkHtml;\n",
              "          element.appendChild(docLink);\n",
              "        }\n",
              "      </script>\n",
              "    </div>\n",
              "  </div>\n",
              "  "
            ]
          },
          "metadata": {},
          "execution_count": 151
        }
      ]
    },
    {
      "cell_type": "code",
      "source": [
        "df.tail(10)\n",
        "#last 10 rows"
      ],
      "metadata": {
        "colab": {
          "base_uri": "https://localhost:8080/",
          "height": 1000
        },
        "id": "fZlo3HS-VsLK",
        "outputId": "cc8f3e4c-58f0-45e3-dea8-92e8ba57287f"
      },
      "execution_count": null,
      "outputs": [
        {
          "output_type": "execute_result",
          "data": {
            "text/plain": [
              "     show_id     type               title                 director  \\\n",
              "8797   s8798  TV Show           Zak Storm                      NaN   \n",
              "8798   s8799    Movie            Zed Plus  Chandra Prakash Dwivedi   \n",
              "8799   s8800    Movie               Zenda           Avadhoot Gupte   \n",
              "8800   s8801  TV Show  Zindagi Gulzar Hai                      NaN   \n",
              "8801   s8802    Movie             Zinzana          Majid Al Ansari   \n",
              "8802   s8803    Movie              Zodiac            David Fincher   \n",
              "8803   s8804  TV Show         Zombie Dumb                      NaN   \n",
              "8804   s8805    Movie          Zombieland          Ruben Fleischer   \n",
              "8805   s8806    Movie                Zoom             Peter Hewitt   \n",
              "8806   s8807    Movie              Zubaan              Mozez Singh   \n",
              "\n",
              "                                                   cast  \\\n",
              "8797  Michael Johnston, Jessica Gee-George, Christin...   \n",
              "8798  Adil Hussain, Mona Singh, K.K. Raina, Sanjay M...   \n",
              "8799  Santosh Juvekar, Siddharth Chandekar, Sachit P...   \n",
              "8800  Sanam Saeed, Fawad Khan, Ayesha Omer, Mehreen ...   \n",
              "8801  Ali Suliman, Saleh Bakri, Yasa, Ali Al-Jabri, ...   \n",
              "8802  Mark Ruffalo, Jake Gyllenhaal, Robert Downey J...   \n",
              "8803                                                NaN   \n",
              "8804  Jesse Eisenberg, Woody Harrelson, Emma Stone, ...   \n",
              "8805  Tim Allen, Courteney Cox, Chevy Chase, Kate Ma...   \n",
              "8806  Vicky Kaushal, Sarah-Jane Dias, Raaghav Chanan...   \n",
              "\n",
              "                                            country          date_added  \\\n",
              "8797  United States, France, South Korea, Indonesia  September 13, 2018   \n",
              "8798                                          India   December 31, 2019   \n",
              "8799                                          India   February 15, 2018   \n",
              "8800                                       Pakistan   December 15, 2016   \n",
              "8801                   United Arab Emirates, Jordan       March 9, 2016   \n",
              "8802                                  United States   November 20, 2019   \n",
              "8803                                            NaN        July 1, 2019   \n",
              "8804                                  United States    November 1, 2019   \n",
              "8805                                  United States    January 11, 2020   \n",
              "8806                                          India       March 2, 2019   \n",
              "\n",
              "      release_year rating   duration  \\\n",
              "8797          2016  TV-Y7  3 Seasons   \n",
              "8798          2014  TV-MA    131 min   \n",
              "8799          2009  TV-14    120 min   \n",
              "8800          2012  TV-PG   1 Season   \n",
              "8801          2015  TV-MA     96 min   \n",
              "8802          2007      R    158 min   \n",
              "8803          2018  TV-Y7  2 Seasons   \n",
              "8804          2009      R     88 min   \n",
              "8805          2006     PG     88 min   \n",
              "8806          2015  TV-14    111 min   \n",
              "\n",
              "                                              listed_in  \\\n",
              "8797                                           Kids' TV   \n",
              "8798             Comedies, Dramas, International Movies   \n",
              "8799                       Dramas, International Movies   \n",
              "8800  International TV Shows, Romantic TV Shows, TV ...   \n",
              "8801            Dramas, International Movies, Thrillers   \n",
              "8802                     Cult Movies, Dramas, Thrillers   \n",
              "8803             Kids' TV, Korean TV Shows, TV Comedies   \n",
              "8804                            Comedies, Horror Movies   \n",
              "8805                 Children & Family Movies, Comedies   \n",
              "8806     Dramas, International Movies, Music & Musicals   \n",
              "\n",
              "                                            description  \n",
              "8797  Teen surfer Zak Storm is mysteriously transpor...  \n",
              "8798  A philandering small-town mechanic's political...  \n",
              "8799  A change in the leadership of a political part...  \n",
              "8800  Strong-willed, middle-class Kashaf and carefre...  \n",
              "8801  Recovering alcoholic Talal wakes up inside a s...  \n",
              "8802  A political cartoonist, a crime reporter and a...  \n",
              "8803  While living alone in a spooky town, a young g...  \n",
              "8804  Looking to survive in a world taken over by zo...  \n",
              "8805  Dragged from civilian life, a former superhero...  \n",
              "8806  A scrappy but poor boy worms his way into a ty...  "
            ],
            "text/html": [
              "\n",
              "  <div id=\"df-59e28b6f-d51e-40d8-a84b-aac0944d13ee\">\n",
              "    <div class=\"colab-df-container\">\n",
              "      <div>\n",
              "<style scoped>\n",
              "    .dataframe tbody tr th:only-of-type {\n",
              "        vertical-align: middle;\n",
              "    }\n",
              "\n",
              "    .dataframe tbody tr th {\n",
              "        vertical-align: top;\n",
              "    }\n",
              "\n",
              "    .dataframe thead th {\n",
              "        text-align: right;\n",
              "    }\n",
              "</style>\n",
              "<table border=\"1\" class=\"dataframe\">\n",
              "  <thead>\n",
              "    <tr style=\"text-align: right;\">\n",
              "      <th></th>\n",
              "      <th>show_id</th>\n",
              "      <th>type</th>\n",
              "      <th>title</th>\n",
              "      <th>director</th>\n",
              "      <th>cast</th>\n",
              "      <th>country</th>\n",
              "      <th>date_added</th>\n",
              "      <th>release_year</th>\n",
              "      <th>rating</th>\n",
              "      <th>duration</th>\n",
              "      <th>listed_in</th>\n",
              "      <th>description</th>\n",
              "    </tr>\n",
              "  </thead>\n",
              "  <tbody>\n",
              "    <tr>\n",
              "      <th>8797</th>\n",
              "      <td>s8798</td>\n",
              "      <td>TV Show</td>\n",
              "      <td>Zak Storm</td>\n",
              "      <td>NaN</td>\n",
              "      <td>Michael Johnston, Jessica Gee-George, Christin...</td>\n",
              "      <td>United States, France, South Korea, Indonesia</td>\n",
              "      <td>September 13, 2018</td>\n",
              "      <td>2016</td>\n",
              "      <td>TV-Y7</td>\n",
              "      <td>3 Seasons</td>\n",
              "      <td>Kids' TV</td>\n",
              "      <td>Teen surfer Zak Storm is mysteriously transpor...</td>\n",
              "    </tr>\n",
              "    <tr>\n",
              "      <th>8798</th>\n",
              "      <td>s8799</td>\n",
              "      <td>Movie</td>\n",
              "      <td>Zed Plus</td>\n",
              "      <td>Chandra Prakash Dwivedi</td>\n",
              "      <td>Adil Hussain, Mona Singh, K.K. Raina, Sanjay M...</td>\n",
              "      <td>India</td>\n",
              "      <td>December 31, 2019</td>\n",
              "      <td>2014</td>\n",
              "      <td>TV-MA</td>\n",
              "      <td>131 min</td>\n",
              "      <td>Comedies, Dramas, International Movies</td>\n",
              "      <td>A philandering small-town mechanic's political...</td>\n",
              "    </tr>\n",
              "    <tr>\n",
              "      <th>8799</th>\n",
              "      <td>s8800</td>\n",
              "      <td>Movie</td>\n",
              "      <td>Zenda</td>\n",
              "      <td>Avadhoot Gupte</td>\n",
              "      <td>Santosh Juvekar, Siddharth Chandekar, Sachit P...</td>\n",
              "      <td>India</td>\n",
              "      <td>February 15, 2018</td>\n",
              "      <td>2009</td>\n",
              "      <td>TV-14</td>\n",
              "      <td>120 min</td>\n",
              "      <td>Dramas, International Movies</td>\n",
              "      <td>A change in the leadership of a political part...</td>\n",
              "    </tr>\n",
              "    <tr>\n",
              "      <th>8800</th>\n",
              "      <td>s8801</td>\n",
              "      <td>TV Show</td>\n",
              "      <td>Zindagi Gulzar Hai</td>\n",
              "      <td>NaN</td>\n",
              "      <td>Sanam Saeed, Fawad Khan, Ayesha Omer, Mehreen ...</td>\n",
              "      <td>Pakistan</td>\n",
              "      <td>December 15, 2016</td>\n",
              "      <td>2012</td>\n",
              "      <td>TV-PG</td>\n",
              "      <td>1 Season</td>\n",
              "      <td>International TV Shows, Romantic TV Shows, TV ...</td>\n",
              "      <td>Strong-willed, middle-class Kashaf and carefre...</td>\n",
              "    </tr>\n",
              "    <tr>\n",
              "      <th>8801</th>\n",
              "      <td>s8802</td>\n",
              "      <td>Movie</td>\n",
              "      <td>Zinzana</td>\n",
              "      <td>Majid Al Ansari</td>\n",
              "      <td>Ali Suliman, Saleh Bakri, Yasa, Ali Al-Jabri, ...</td>\n",
              "      <td>United Arab Emirates, Jordan</td>\n",
              "      <td>March 9, 2016</td>\n",
              "      <td>2015</td>\n",
              "      <td>TV-MA</td>\n",
              "      <td>96 min</td>\n",
              "      <td>Dramas, International Movies, Thrillers</td>\n",
              "      <td>Recovering alcoholic Talal wakes up inside a s...</td>\n",
              "    </tr>\n",
              "    <tr>\n",
              "      <th>8802</th>\n",
              "      <td>s8803</td>\n",
              "      <td>Movie</td>\n",
              "      <td>Zodiac</td>\n",
              "      <td>David Fincher</td>\n",
              "      <td>Mark Ruffalo, Jake Gyllenhaal, Robert Downey J...</td>\n",
              "      <td>United States</td>\n",
              "      <td>November 20, 2019</td>\n",
              "      <td>2007</td>\n",
              "      <td>R</td>\n",
              "      <td>158 min</td>\n",
              "      <td>Cult Movies, Dramas, Thrillers</td>\n",
              "      <td>A political cartoonist, a crime reporter and a...</td>\n",
              "    </tr>\n",
              "    <tr>\n",
              "      <th>8803</th>\n",
              "      <td>s8804</td>\n",
              "      <td>TV Show</td>\n",
              "      <td>Zombie Dumb</td>\n",
              "      <td>NaN</td>\n",
              "      <td>NaN</td>\n",
              "      <td>NaN</td>\n",
              "      <td>July 1, 2019</td>\n",
              "      <td>2018</td>\n",
              "      <td>TV-Y7</td>\n",
              "      <td>2 Seasons</td>\n",
              "      <td>Kids' TV, Korean TV Shows, TV Comedies</td>\n",
              "      <td>While living alone in a spooky town, a young g...</td>\n",
              "    </tr>\n",
              "    <tr>\n",
              "      <th>8804</th>\n",
              "      <td>s8805</td>\n",
              "      <td>Movie</td>\n",
              "      <td>Zombieland</td>\n",
              "      <td>Ruben Fleischer</td>\n",
              "      <td>Jesse Eisenberg, Woody Harrelson, Emma Stone, ...</td>\n",
              "      <td>United States</td>\n",
              "      <td>November 1, 2019</td>\n",
              "      <td>2009</td>\n",
              "      <td>R</td>\n",
              "      <td>88 min</td>\n",
              "      <td>Comedies, Horror Movies</td>\n",
              "      <td>Looking to survive in a world taken over by zo...</td>\n",
              "    </tr>\n",
              "    <tr>\n",
              "      <th>8805</th>\n",
              "      <td>s8806</td>\n",
              "      <td>Movie</td>\n",
              "      <td>Zoom</td>\n",
              "      <td>Peter Hewitt</td>\n",
              "      <td>Tim Allen, Courteney Cox, Chevy Chase, Kate Ma...</td>\n",
              "      <td>United States</td>\n",
              "      <td>January 11, 2020</td>\n",
              "      <td>2006</td>\n",
              "      <td>PG</td>\n",
              "      <td>88 min</td>\n",
              "      <td>Children &amp; Family Movies, Comedies</td>\n",
              "      <td>Dragged from civilian life, a former superhero...</td>\n",
              "    </tr>\n",
              "    <tr>\n",
              "      <th>8806</th>\n",
              "      <td>s8807</td>\n",
              "      <td>Movie</td>\n",
              "      <td>Zubaan</td>\n",
              "      <td>Mozez Singh</td>\n",
              "      <td>Vicky Kaushal, Sarah-Jane Dias, Raaghav Chanan...</td>\n",
              "      <td>India</td>\n",
              "      <td>March 2, 2019</td>\n",
              "      <td>2015</td>\n",
              "      <td>TV-14</td>\n",
              "      <td>111 min</td>\n",
              "      <td>Dramas, International Movies, Music &amp; Musicals</td>\n",
              "      <td>A scrappy but poor boy worms his way into a ty...</td>\n",
              "    </tr>\n",
              "  </tbody>\n",
              "</table>\n",
              "</div>\n",
              "      <button class=\"colab-df-convert\" onclick=\"convertToInteractive('df-59e28b6f-d51e-40d8-a84b-aac0944d13ee')\"\n",
              "              title=\"Convert this dataframe to an interactive table.\"\n",
              "              style=\"display:none;\">\n",
              "        \n",
              "  <svg xmlns=\"http://www.w3.org/2000/svg\" height=\"24px\"viewBox=\"0 0 24 24\"\n",
              "       width=\"24px\">\n",
              "    <path d=\"M0 0h24v24H0V0z\" fill=\"none\"/>\n",
              "    <path d=\"M18.56 5.44l.94 2.06.94-2.06 2.06-.94-2.06-.94-.94-2.06-.94 2.06-2.06.94zm-11 1L8.5 8.5l.94-2.06 2.06-.94-2.06-.94L8.5 2.5l-.94 2.06-2.06.94zm10 10l.94 2.06.94-2.06 2.06-.94-2.06-.94-.94-2.06-.94 2.06-2.06.94z\"/><path d=\"M17.41 7.96l-1.37-1.37c-.4-.4-.92-.59-1.43-.59-.52 0-1.04.2-1.43.59L10.3 9.45l-7.72 7.72c-.78.78-.78 2.05 0 2.83L4 21.41c.39.39.9.59 1.41.59.51 0 1.02-.2 1.41-.59l7.78-7.78 2.81-2.81c.8-.78.8-2.07 0-2.86zM5.41 20L4 18.59l7.72-7.72 1.47 1.35L5.41 20z\"/>\n",
              "  </svg>\n",
              "      </button>\n",
              "      \n",
              "  <style>\n",
              "    .colab-df-container {\n",
              "      display:flex;\n",
              "      flex-wrap:wrap;\n",
              "      gap: 12px;\n",
              "    }\n",
              "\n",
              "    .colab-df-convert {\n",
              "      background-color: #E8F0FE;\n",
              "      border: none;\n",
              "      border-radius: 50%;\n",
              "      cursor: pointer;\n",
              "      display: none;\n",
              "      fill: #1967D2;\n",
              "      height: 32px;\n",
              "      padding: 0 0 0 0;\n",
              "      width: 32px;\n",
              "    }\n",
              "\n",
              "    .colab-df-convert:hover {\n",
              "      background-color: #E2EBFA;\n",
              "      box-shadow: 0px 1px 2px rgba(60, 64, 67, 0.3), 0px 1px 3px 1px rgba(60, 64, 67, 0.15);\n",
              "      fill: #174EA6;\n",
              "    }\n",
              "\n",
              "    [theme=dark] .colab-df-convert {\n",
              "      background-color: #3B4455;\n",
              "      fill: #D2E3FC;\n",
              "    }\n",
              "\n",
              "    [theme=dark] .colab-df-convert:hover {\n",
              "      background-color: #434B5C;\n",
              "      box-shadow: 0px 1px 3px 1px rgba(0, 0, 0, 0.15);\n",
              "      filter: drop-shadow(0px 1px 2px rgba(0, 0, 0, 0.3));\n",
              "      fill: #FFFFFF;\n",
              "    }\n",
              "  </style>\n",
              "\n",
              "      <script>\n",
              "        const buttonEl =\n",
              "          document.querySelector('#df-59e28b6f-d51e-40d8-a84b-aac0944d13ee button.colab-df-convert');\n",
              "        buttonEl.style.display =\n",
              "          google.colab.kernel.accessAllowed ? 'block' : 'none';\n",
              "\n",
              "        async function convertToInteractive(key) {\n",
              "          const element = document.querySelector('#df-59e28b6f-d51e-40d8-a84b-aac0944d13ee');\n",
              "          const dataTable =\n",
              "            await google.colab.kernel.invokeFunction('convertToInteractive',\n",
              "                                                     [key], {});\n",
              "          if (!dataTable) return;\n",
              "\n",
              "          const docLinkHtml = 'Like what you see? Visit the ' +\n",
              "            '<a target=\"_blank\" href=https://colab.research.google.com/notebooks/data_table.ipynb>data table notebook</a>'\n",
              "            + ' to learn more about interactive tables.';\n",
              "          element.innerHTML = '';\n",
              "          dataTable['output_type'] = 'display_data';\n",
              "          await google.colab.output.renderOutput(dataTable, element);\n",
              "          const docLink = document.createElement('div');\n",
              "          docLink.innerHTML = docLinkHtml;\n",
              "          element.appendChild(docLink);\n",
              "        }\n",
              "      </script>\n",
              "    </div>\n",
              "  </div>\n",
              "  "
            ]
          },
          "metadata": {},
          "execution_count": 152
        }
      ]
    },
    {
      "cell_type": "code",
      "source": [
        "print(f\"Data has {df.shape[0]} rows and {df.shape[1]} columns\")\n",
        "#shape of Data"
      ],
      "metadata": {
        "colab": {
          "base_uri": "https://localhost:8080/"
        },
        "id": "uGuKxzboVsIj",
        "outputId": "0c8dbc9e-cca0-415c-e8f7-8adf8762bc97"
      },
      "execution_count": null,
      "outputs": [
        {
          "output_type": "stream",
          "name": "stdout",
          "text": [
            "Data has 8807 rows and 12 columns\n"
          ]
        }
      ]
    },
    {
      "cell_type": "code",
      "source": [
        "#Find any duplicated Elements\n",
        "df.duplicated().sum()"
      ],
      "metadata": {
        "colab": {
          "base_uri": "https://localhost:8080/"
        },
        "id": "zF4OrYKXVsHO",
        "outputId": "d471a6ad-ca4c-44b7-e6e8-555f5c64c4cc"
      },
      "execution_count": null,
      "outputs": [
        {
          "output_type": "execute_result",
          "data": {
            "text/plain": [
              "0"
            ]
          },
          "metadata": {},
          "execution_count": 154
        }
      ]
    },
    {
      "cell_type": "markdown",
      "source": [
        "\n",
        "\n",
        "There exist no duplicate Elements\n",
        "\n"
      ],
      "metadata": {
        "id": "Kw7anvCNWoO_"
      }
    },
    {
      "cell_type": "code",
      "source": [
        "#Find NaN values if any:\n",
        "df.isnull().sum()"
      ],
      "metadata": {
        "colab": {
          "base_uri": "https://localhost:8080/"
        },
        "id": "kdC_Sg-eXFdL",
        "outputId": "d1f9ab91-6964-4eba-9296-7cbc017f26b9"
      },
      "execution_count": null,
      "outputs": [
        {
          "output_type": "execute_result",
          "data": {
            "text/plain": [
              "show_id            0\n",
              "type               0\n",
              "title              0\n",
              "director        2634\n",
              "cast             825\n",
              "country          831\n",
              "date_added        10\n",
              "release_year       0\n",
              "rating             4\n",
              "duration           3\n",
              "listed_in          0\n",
              "description        0\n",
              "dtype: int64"
            ]
          },
          "metadata": {},
          "execution_count": 155
        }
      ]
    },
    {
      "cell_type": "code",
      "source": [
        "#We find the percentage of NaN values in each column\n",
        "y=df.shape[0]\n",
        "print(\"The Null values in each proportionately\")\n",
        "for i in df.columns:\n",
        "  x=df[i].isnull().sum()\n",
        "  if x!=0:\n",
        "    print(i,x/y)"
      ],
      "metadata": {
        "colab": {
          "base_uri": "https://localhost:8080/"
        },
        "id": "MAn8VjnoWh7w",
        "outputId": "12b3329e-bc39-407d-fabb-c0c6087d4217"
      },
      "execution_count": null,
      "outputs": [
        {
          "output_type": "stream",
          "name": "stdout",
          "text": [
            "The Null values in each proportionately\n",
            "director 0.29908027705234475\n",
            "cast 0.09367548540933349\n",
            "country 0.09435676166685592\n",
            "date_added 0.0011354604292040423\n",
            "rating 0.0004541841716816169\n",
            "duration 0.00034063812876121267\n"
          ]
        }
      ]
    },
    {
      "cell_type": "markdown",
      "source": [
        "## Handling the missing **Values**"
      ],
      "metadata": {
        "id": "oxQStYrUXNZz"
      }
    },
    {
      "cell_type": "markdown",
      "source": [
        "Director column has around 30 % or 2634 rows of missing values.The values are \n",
        "many so replace NaN values with \"**Missing Values**\""
      ],
      "metadata": {
        "id": "D9j4Vns5XW8o"
      }
    },
    {
      "cell_type": "code",
      "source": [
        "df.loc[df[\"director\"].isnull(),\"director\"]=\"Missing Value\""
      ],
      "metadata": {
        "id": "S13I5gqHXMuC"
      },
      "execution_count": null,
      "outputs": []
    },
    {
      "cell_type": "code",
      "source": [
        "#Director Row will become\n",
        "df[\"director\"].value_counts()"
      ],
      "metadata": {
        "colab": {
          "base_uri": "https://localhost:8080/"
        },
        "id": "fBGkLBd6ZuCb",
        "outputId": "d17cfc52-8919-416f-ae04-f13aa04c7443"
      },
      "execution_count": null,
      "outputs": [
        {
          "output_type": "execute_result",
          "data": {
            "text/plain": [
              "Missing Value                     2634\n",
              "Rajiv Chilaka                       19\n",
              "Raúl Campos, Jan Suter              18\n",
              "Suhas Kadav                         16\n",
              "Marcus Raboy                        16\n",
              "                                  ... \n",
              "Raymie Muzquiz, Stu Livingston       1\n",
              "Joe Menendez                         1\n",
              "Eric Bross                           1\n",
              "Will Eisenberg                       1\n",
              "Mozez Singh                          1\n",
              "Name: director, Length: 4529, dtype: int64"
            ]
          },
          "metadata": {},
          "execution_count": 158
        }
      ]
    },
    {
      "cell_type": "markdown",
      "source": [
        "Similarly cast column has 825 NaN columns and country column has 831 NaN  columns respectively.Replacing them \"**Missing Values**\"\n",
        "\n",
        "\n"
      ],
      "metadata": {
        "id": "x16mXG4NX7Km"
      }
    },
    {
      "cell_type": "code",
      "source": [
        "df.loc[df[\"cast\"].isnull(),\"cast\"]=\"Missing Value\"\n",
        "df.loc[df[\"country\"].isnull(),\"country\"]=\"Missing Value\""
      ],
      "metadata": {
        "id": "_B9fFCrnY7TQ"
      },
      "execution_count": null,
      "outputs": []
    },
    {
      "cell_type": "code",
      "source": [
        "\n"
      ],
      "metadata": {
        "id": "kDp2u5hdZ5Uf"
      },
      "execution_count": null,
      "outputs": []
    },
    {
      "cell_type": "code",
      "source": [],
      "metadata": {
        "id": "9e3cer8VZjsc"
      },
      "execution_count": null,
      "outputs": []
    },
    {
      "cell_type": "markdown",
      "source": [
        "# Check and correct Faulty Data"
      ],
      "metadata": {
        "id": "brsdlGqxZIds"
      }
    },
    {
      "cell_type": "markdown",
      "source": [
        "We will check each row and find correct faulty data if any.\n"
      ],
      "metadata": {
        "id": "9r0vwoQ1ZX-7"
      }
    },
    {
      "cell_type": "code",
      "source": [
        "df[\"rating\"].value_counts()"
      ],
      "metadata": {
        "colab": {
          "base_uri": "https://localhost:8080/"
        },
        "id": "2E5gh4y0ZUQF",
        "outputId": "b7102832-7630-40ab-daa3-d9f2bf160ac1"
      },
      "execution_count": null,
      "outputs": [
        {
          "output_type": "execute_result",
          "data": {
            "text/plain": [
              "TV-MA       3207\n",
              "TV-14       2160\n",
              "TV-PG        863\n",
              "R            799\n",
              "PG-13        490\n",
              "TV-Y7        334\n",
              "TV-Y         307\n",
              "PG           287\n",
              "TV-G         220\n",
              "NR            80\n",
              "G             41\n",
              "TV-Y7-FV       6\n",
              "NC-17          3\n",
              "UR             3\n",
              "74 min         1\n",
              "84 min         1\n",
              "66 min         1\n",
              "Name: rating, dtype: int64"
            ]
          },
          "metadata": {},
          "execution_count": 160
        }
      ]
    },
    {
      "cell_type": "markdown",
      "source": [
        "Here in ratings column wrong values have been filled i.e. 74 min,84 min,66 min"
      ],
      "metadata": {
        "id": "imSudKdMaWRu"
      }
    },
    {
      "cell_type": "code",
      "source": [
        "#Check if Duration is empty or not\n",
        "indexes=[]\n",
        "for i in [\"74 min\",\"84 min\",\"66 min\"]:\n",
        "  indexes.append(df.loc[df[\"rating\"]==i].index)\n",
        "  print(df.loc[df[\"rating\"]==i,[\"duration\",\"rating\"]])\n"
      ],
      "metadata": {
        "colab": {
          "base_uri": "https://localhost:8080/"
        },
        "id": "9bl-SaLRbt8a",
        "outputId": "15998f28-95e5-481b-cddd-da703221a6cc"
      },
      "execution_count": null,
      "outputs": [
        {
          "output_type": "stream",
          "name": "stdout",
          "text": [
            "     duration  rating\n",
            "5541      NaN  74 min\n",
            "     duration  rating\n",
            "5794      NaN  84 min\n",
            "     duration  rating\n",
            "5813      NaN  66 min\n"
          ]
        }
      ]
    },
    {
      "cell_type": "markdown",
      "source": [
        "In these columns the duration column has been filled in rating column.So correcting both.These 3 duration rows are the NaN values so assigning them with Duration values\n",
        "\n",
        "\n",
        "\n"
      ],
      "metadata": {
        "id": "5TiqpY3-c5NO"
      }
    },
    {
      "cell_type": "code",
      "source": [
        "df.loc[df[\"duration\"].isnull()==True]\n",
        "x=df.loc[df[\"duration\"].isnull()==True].index"
      ],
      "metadata": {
        "id": "I60hq61hUzfJ"
      },
      "execution_count": null,
      "outputs": []
    },
    {
      "cell_type": "code",
      "source": [
        "df.loc[df[\"duration\"].isnull()==True,\"duration\"]=df[\"rating\"]"
      ],
      "metadata": {
        "id": "TPIUiSwndqQX"
      },
      "execution_count": null,
      "outputs": []
    },
    {
      "cell_type": "markdown",
      "source": [
        "Now Ratings column has 4 missing values and 3 wrong values"
      ],
      "metadata": {
        "id": "kGMUXQSKeU2d"
      }
    },
    {
      "cell_type": "code",
      "source": [
        "df[\"rating\"].value_counts()"
      ],
      "metadata": {
        "colab": {
          "base_uri": "https://localhost:8080/"
        },
        "id": "5n61208fep0z",
        "outputId": "59c96ca9-2594-4553-a764-9f2595bb8ba8"
      },
      "execution_count": null,
      "outputs": [
        {
          "output_type": "execute_result",
          "data": {
            "text/plain": [
              "TV-MA       3207\n",
              "TV-14       2160\n",
              "TV-PG        863\n",
              "R            799\n",
              "PG-13        490\n",
              "TV-Y7        334\n",
              "TV-Y         307\n",
              "PG           287\n",
              "TV-G         220\n",
              "NR            80\n",
              "G             41\n",
              "TV-Y7-FV       6\n",
              "NC-17          3\n",
              "UR             3\n",
              "74 min         1\n",
              "84 min         1\n",
              "66 min         1\n",
              "Name: rating, dtype: int64"
            ]
          },
          "metadata": {},
          "execution_count": 164
        }
      ]
    },
    {
      "cell_type": "markdown",
      "source": [
        "Manually correcting each Values by index"
      ],
      "metadata": {
        "id": "t34bsWgGejBE"
      }
    },
    {
      "cell_type": "code",
      "source": [
        "#Wrong values being corrected\n",
        "df.loc[df.index==5541,\"rating\"]=\"TV-MA\"\n",
        "df.loc[df.index==5794,\"rating\"]=\"PG-13\"\n",
        "df.loc[df.index==5813,\"rating\"]=\"PG-13\""
      ],
      "metadata": {
        "id": "7qQ367WoeH3K"
      },
      "execution_count": null,
      "outputs": []
    },
    {
      "cell_type": "code",
      "source": [
        "#Finding Missing Values of Rating\n",
        "df[df[\"rating\"].isna()].index"
      ],
      "metadata": {
        "colab": {
          "base_uri": "https://localhost:8080/"
        },
        "id": "b3Mws4rye8mM",
        "outputId": "dc2ff7ee-7167-4565-cdc4-deecc3a2d387"
      },
      "execution_count": null,
      "outputs": [
        {
          "output_type": "execute_result",
          "data": {
            "text/plain": [
              "Int64Index([5989, 6827, 7312, 7537], dtype='int64')"
            ]
          },
          "metadata": {},
          "execution_count": 166
        }
      ]
    },
    {
      "cell_type": "code",
      "source": [
        "#Correcting them too\n",
        "df.loc[df.index==6827,\"rating\"]=\"TV-14\"\n",
        "df.loc[df.index==7312,\"rating\"]=\"PG\"\n",
        "df.loc[df.index==7537,\"rating\"]=\"PG-13\"\n",
        "df.loc[df.index==5989,\"rating\"]=\"PG-13\""
      ],
      "metadata": {
        "id": "bLb4vsMUfLFt"
      },
      "execution_count": null,
      "outputs": []
    },
    {
      "cell_type": "code",
      "source": [
        "#Checking whether missing value has been Replaced Correctly\n",
        "for i in x:\n",
        "  df.loc[df.index[i],\"rating\"]\n",
        "  print(df.loc[df.index[i]])"
      ],
      "metadata": {
        "colab": {
          "base_uri": "https://localhost:8080/"
        },
        "id": "8DGz295TfAtK",
        "outputId": "d8aa0110-d3f3-4e6d-85b4-a9b9b61281fb"
      },
      "execution_count": null,
      "outputs": [
        {
          "output_type": "stream",
          "name": "stdout",
          "text": [
            "show_id                                                     s5542\n",
            "type                                                        Movie\n",
            "title                                             Louis C.K. 2017\n",
            "director                                               Louis C.K.\n",
            "cast                                                   Louis C.K.\n",
            "country                                             United States\n",
            "date_added                                          April 4, 2017\n",
            "release_year                                                 2017\n",
            "rating                                                      TV-MA\n",
            "duration                                                   74 min\n",
            "listed_in                                                  Movies\n",
            "description     Louis C.K. muses on religion, eternal love, gi...\n",
            "Name: 5541, dtype: object\n",
            "show_id                                                     s5795\n",
            "type                                                        Movie\n",
            "title                                       Louis C.K.: Hilarious\n",
            "director                                               Louis C.K.\n",
            "cast                                                   Louis C.K.\n",
            "country                                             United States\n",
            "date_added                                     September 16, 2016\n",
            "release_year                                                 2010\n",
            "rating                                                      PG-13\n",
            "duration                                                   84 min\n",
            "listed_in                                                  Movies\n",
            "description     Emmy-winning comedy writer Louis C.K. brings h...\n",
            "Name: 5794, dtype: object\n",
            "show_id                                                     s5814\n",
            "type                                                        Movie\n",
            "title                        Louis C.K.: Live at the Comedy Store\n",
            "director                                               Louis C.K.\n",
            "cast                                                   Louis C.K.\n",
            "country                                             United States\n",
            "date_added                                        August 15, 2016\n",
            "release_year                                                 2015\n",
            "rating                                                      PG-13\n",
            "duration                                                   66 min\n",
            "listed_in                                                  Movies\n",
            "description     The comic puts his trademark hilarious/thought...\n",
            "Name: 5813, dtype: object\n"
          ]
        }
      ]
    },
    {
      "cell_type": "code",
      "source": [
        "#Find Nunique Values of each Column\n",
        "for i in df.columns:\n",
        "  print(i,\":\",df[i].nunique())"
      ],
      "metadata": {
        "colab": {
          "base_uri": "https://localhost:8080/"
        },
        "id": "OjMmxYvsqbpJ",
        "outputId": "d91526ec-7b6a-4470-f950-f6c84a430f01"
      },
      "execution_count": null,
      "outputs": [
        {
          "output_type": "stream",
          "name": "stdout",
          "text": [
            "show_id : 8807\n",
            "type : 2\n",
            "title : 8807\n",
            "director : 4529\n",
            "cast : 7693\n",
            "country : 749\n",
            "date_added : 1767\n",
            "release_year : 74\n",
            "rating : 14\n",
            "duration : 220\n",
            "listed_in : 514\n",
            "description : 8775\n"
          ]
        }
      ]
    },
    {
      "cell_type": "code",
      "source": [
        "#After all this data correction the data will look like\n",
        "df.head(10)"
      ],
      "metadata": {
        "colab": {
          "base_uri": "https://localhost:8080/",
          "height": 1000
        },
        "id": "2ZpRz9jHfho-",
        "outputId": "54381ba4-00e0-48df-9c03-3b5ca806ebea"
      },
      "execution_count": null,
      "outputs": [
        {
          "output_type": "execute_result",
          "data": {
            "text/plain": [
              "  show_id     type                             title  \\\n",
              "0      s1    Movie              Dick Johnson Is Dead   \n",
              "1      s2  TV Show                     Blood & Water   \n",
              "2      s3  TV Show                         Ganglands   \n",
              "3      s4  TV Show             Jailbirds New Orleans   \n",
              "4      s5  TV Show                      Kota Factory   \n",
              "5      s6  TV Show                     Midnight Mass   \n",
              "6      s7    Movie  My Little Pony: A New Generation   \n",
              "7      s8    Movie                           Sankofa   \n",
              "8      s9  TV Show     The Great British Baking Show   \n",
              "9     s10    Movie                      The Starling   \n",
              "\n",
              "                        director  \\\n",
              "0                Kirsten Johnson   \n",
              "1                  Missing Value   \n",
              "2                Julien Leclercq   \n",
              "3                  Missing Value   \n",
              "4                  Missing Value   \n",
              "5                  Mike Flanagan   \n",
              "6  Robert Cullen, José Luis Ucha   \n",
              "7                   Haile Gerima   \n",
              "8                Andy Devonshire   \n",
              "9                 Theodore Melfi   \n",
              "\n",
              "                                                cast  \\\n",
              "0                                      Missing Value   \n",
              "1  Ama Qamata, Khosi Ngema, Gail Mabalane, Thaban...   \n",
              "2  Sami Bouajila, Tracy Gotoas, Samuel Jouy, Nabi...   \n",
              "3                                      Missing Value   \n",
              "4  Mayur More, Jitendra Kumar, Ranjan Raj, Alam K...   \n",
              "5  Kate Siegel, Zach Gilford, Hamish Linklater, H...   \n",
              "6  Vanessa Hudgens, Kimiko Glenn, James Marsden, ...   \n",
              "7  Kofi Ghanaba, Oyafunmike Ogunlano, Alexandra D...   \n",
              "8  Mel Giedroyc, Sue Perkins, Mary Berry, Paul Ho...   \n",
              "9  Melissa McCarthy, Chris O'Dowd, Kevin Kline, T...   \n",
              "\n",
              "                                             country          date_added  \\\n",
              "0                                      United States  September 25, 2021   \n",
              "1                                       South Africa  September 24, 2021   \n",
              "2                                      Missing Value  September 24, 2021   \n",
              "3                                      Missing Value  September 24, 2021   \n",
              "4                                              India  September 24, 2021   \n",
              "5                                      Missing Value  September 24, 2021   \n",
              "6                                      Missing Value  September 24, 2021   \n",
              "7  United States, Ghana, Burkina Faso, United Kin...  September 24, 2021   \n",
              "8                                     United Kingdom  September 24, 2021   \n",
              "9                                      United States  September 24, 2021   \n",
              "\n",
              "   release_year rating   duration  \\\n",
              "0          2020  PG-13     90 min   \n",
              "1          2021  TV-MA  2 Seasons   \n",
              "2          2021  TV-MA   1 Season   \n",
              "3          2021  TV-MA   1 Season   \n",
              "4          2021  TV-MA  2 Seasons   \n",
              "5          2021  TV-MA   1 Season   \n",
              "6          2021     PG     91 min   \n",
              "7          1993  TV-MA    125 min   \n",
              "8          2021  TV-14  9 Seasons   \n",
              "9          2021  PG-13    104 min   \n",
              "\n",
              "                                           listed_in  \\\n",
              "0                                      Documentaries   \n",
              "1    International TV Shows, TV Dramas, TV Mysteries   \n",
              "2  Crime TV Shows, International TV Shows, TV Act...   \n",
              "3                             Docuseries, Reality TV   \n",
              "4  International TV Shows, Romantic TV Shows, TV ...   \n",
              "5                 TV Dramas, TV Horror, TV Mysteries   \n",
              "6                           Children & Family Movies   \n",
              "7   Dramas, Independent Movies, International Movies   \n",
              "8                       British TV Shows, Reality TV   \n",
              "9                                   Comedies, Dramas   \n",
              "\n",
              "                                         description  \n",
              "0  As her father nears the end of his life, filmm...  \n",
              "1  After crossing paths at a party, a Cape Town t...  \n",
              "2  To protect his family from a powerful drug lor...  \n",
              "3  Feuds, flirtations and toilet talk go down amo...  \n",
              "4  In a city of coaching centers known to train I...  \n",
              "5  The arrival of a charismatic young priest brin...  \n",
              "6  Equestria's divided. But a bright-eyed hero be...  \n",
              "7  On a photo shoot in Ghana, an American model s...  \n",
              "8  A talented batch of amateur bakers face off in...  \n",
              "9  A woman adjusting to life after a loss contend...  "
            ],
            "text/html": [
              "\n",
              "  <div id=\"df-ef62ba48-a32e-44c8-86c0-8dcb5c2405b0\">\n",
              "    <div class=\"colab-df-container\">\n",
              "      <div>\n",
              "<style scoped>\n",
              "    .dataframe tbody tr th:only-of-type {\n",
              "        vertical-align: middle;\n",
              "    }\n",
              "\n",
              "    .dataframe tbody tr th {\n",
              "        vertical-align: top;\n",
              "    }\n",
              "\n",
              "    .dataframe thead th {\n",
              "        text-align: right;\n",
              "    }\n",
              "</style>\n",
              "<table border=\"1\" class=\"dataframe\">\n",
              "  <thead>\n",
              "    <tr style=\"text-align: right;\">\n",
              "      <th></th>\n",
              "      <th>show_id</th>\n",
              "      <th>type</th>\n",
              "      <th>title</th>\n",
              "      <th>director</th>\n",
              "      <th>cast</th>\n",
              "      <th>country</th>\n",
              "      <th>date_added</th>\n",
              "      <th>release_year</th>\n",
              "      <th>rating</th>\n",
              "      <th>duration</th>\n",
              "      <th>listed_in</th>\n",
              "      <th>description</th>\n",
              "    </tr>\n",
              "  </thead>\n",
              "  <tbody>\n",
              "    <tr>\n",
              "      <th>0</th>\n",
              "      <td>s1</td>\n",
              "      <td>Movie</td>\n",
              "      <td>Dick Johnson Is Dead</td>\n",
              "      <td>Kirsten Johnson</td>\n",
              "      <td>Missing Value</td>\n",
              "      <td>United States</td>\n",
              "      <td>September 25, 2021</td>\n",
              "      <td>2020</td>\n",
              "      <td>PG-13</td>\n",
              "      <td>90 min</td>\n",
              "      <td>Documentaries</td>\n",
              "      <td>As her father nears the end of his life, filmm...</td>\n",
              "    </tr>\n",
              "    <tr>\n",
              "      <th>1</th>\n",
              "      <td>s2</td>\n",
              "      <td>TV Show</td>\n",
              "      <td>Blood &amp; Water</td>\n",
              "      <td>Missing Value</td>\n",
              "      <td>Ama Qamata, Khosi Ngema, Gail Mabalane, Thaban...</td>\n",
              "      <td>South Africa</td>\n",
              "      <td>September 24, 2021</td>\n",
              "      <td>2021</td>\n",
              "      <td>TV-MA</td>\n",
              "      <td>2 Seasons</td>\n",
              "      <td>International TV Shows, TV Dramas, TV Mysteries</td>\n",
              "      <td>After crossing paths at a party, a Cape Town t...</td>\n",
              "    </tr>\n",
              "    <tr>\n",
              "      <th>2</th>\n",
              "      <td>s3</td>\n",
              "      <td>TV Show</td>\n",
              "      <td>Ganglands</td>\n",
              "      <td>Julien Leclercq</td>\n",
              "      <td>Sami Bouajila, Tracy Gotoas, Samuel Jouy, Nabi...</td>\n",
              "      <td>Missing Value</td>\n",
              "      <td>September 24, 2021</td>\n",
              "      <td>2021</td>\n",
              "      <td>TV-MA</td>\n",
              "      <td>1 Season</td>\n",
              "      <td>Crime TV Shows, International TV Shows, TV Act...</td>\n",
              "      <td>To protect his family from a powerful drug lor...</td>\n",
              "    </tr>\n",
              "    <tr>\n",
              "      <th>3</th>\n",
              "      <td>s4</td>\n",
              "      <td>TV Show</td>\n",
              "      <td>Jailbirds New Orleans</td>\n",
              "      <td>Missing Value</td>\n",
              "      <td>Missing Value</td>\n",
              "      <td>Missing Value</td>\n",
              "      <td>September 24, 2021</td>\n",
              "      <td>2021</td>\n",
              "      <td>TV-MA</td>\n",
              "      <td>1 Season</td>\n",
              "      <td>Docuseries, Reality TV</td>\n",
              "      <td>Feuds, flirtations and toilet talk go down amo...</td>\n",
              "    </tr>\n",
              "    <tr>\n",
              "      <th>4</th>\n",
              "      <td>s5</td>\n",
              "      <td>TV Show</td>\n",
              "      <td>Kota Factory</td>\n",
              "      <td>Missing Value</td>\n",
              "      <td>Mayur More, Jitendra Kumar, Ranjan Raj, Alam K...</td>\n",
              "      <td>India</td>\n",
              "      <td>September 24, 2021</td>\n",
              "      <td>2021</td>\n",
              "      <td>TV-MA</td>\n",
              "      <td>2 Seasons</td>\n",
              "      <td>International TV Shows, Romantic TV Shows, TV ...</td>\n",
              "      <td>In a city of coaching centers known to train I...</td>\n",
              "    </tr>\n",
              "    <tr>\n",
              "      <th>5</th>\n",
              "      <td>s6</td>\n",
              "      <td>TV Show</td>\n",
              "      <td>Midnight Mass</td>\n",
              "      <td>Mike Flanagan</td>\n",
              "      <td>Kate Siegel, Zach Gilford, Hamish Linklater, H...</td>\n",
              "      <td>Missing Value</td>\n",
              "      <td>September 24, 2021</td>\n",
              "      <td>2021</td>\n",
              "      <td>TV-MA</td>\n",
              "      <td>1 Season</td>\n",
              "      <td>TV Dramas, TV Horror, TV Mysteries</td>\n",
              "      <td>The arrival of a charismatic young priest brin...</td>\n",
              "    </tr>\n",
              "    <tr>\n",
              "      <th>6</th>\n",
              "      <td>s7</td>\n",
              "      <td>Movie</td>\n",
              "      <td>My Little Pony: A New Generation</td>\n",
              "      <td>Robert Cullen, José Luis Ucha</td>\n",
              "      <td>Vanessa Hudgens, Kimiko Glenn, James Marsden, ...</td>\n",
              "      <td>Missing Value</td>\n",
              "      <td>September 24, 2021</td>\n",
              "      <td>2021</td>\n",
              "      <td>PG</td>\n",
              "      <td>91 min</td>\n",
              "      <td>Children &amp; Family Movies</td>\n",
              "      <td>Equestria's divided. But a bright-eyed hero be...</td>\n",
              "    </tr>\n",
              "    <tr>\n",
              "      <th>7</th>\n",
              "      <td>s8</td>\n",
              "      <td>Movie</td>\n",
              "      <td>Sankofa</td>\n",
              "      <td>Haile Gerima</td>\n",
              "      <td>Kofi Ghanaba, Oyafunmike Ogunlano, Alexandra D...</td>\n",
              "      <td>United States, Ghana, Burkina Faso, United Kin...</td>\n",
              "      <td>September 24, 2021</td>\n",
              "      <td>1993</td>\n",
              "      <td>TV-MA</td>\n",
              "      <td>125 min</td>\n",
              "      <td>Dramas, Independent Movies, International Movies</td>\n",
              "      <td>On a photo shoot in Ghana, an American model s...</td>\n",
              "    </tr>\n",
              "    <tr>\n",
              "      <th>8</th>\n",
              "      <td>s9</td>\n",
              "      <td>TV Show</td>\n",
              "      <td>The Great British Baking Show</td>\n",
              "      <td>Andy Devonshire</td>\n",
              "      <td>Mel Giedroyc, Sue Perkins, Mary Berry, Paul Ho...</td>\n",
              "      <td>United Kingdom</td>\n",
              "      <td>September 24, 2021</td>\n",
              "      <td>2021</td>\n",
              "      <td>TV-14</td>\n",
              "      <td>9 Seasons</td>\n",
              "      <td>British TV Shows, Reality TV</td>\n",
              "      <td>A talented batch of amateur bakers face off in...</td>\n",
              "    </tr>\n",
              "    <tr>\n",
              "      <th>9</th>\n",
              "      <td>s10</td>\n",
              "      <td>Movie</td>\n",
              "      <td>The Starling</td>\n",
              "      <td>Theodore Melfi</td>\n",
              "      <td>Melissa McCarthy, Chris O'Dowd, Kevin Kline, T...</td>\n",
              "      <td>United States</td>\n",
              "      <td>September 24, 2021</td>\n",
              "      <td>2021</td>\n",
              "      <td>PG-13</td>\n",
              "      <td>104 min</td>\n",
              "      <td>Comedies, Dramas</td>\n",
              "      <td>A woman adjusting to life after a loss contend...</td>\n",
              "    </tr>\n",
              "  </tbody>\n",
              "</table>\n",
              "</div>\n",
              "      <button class=\"colab-df-convert\" onclick=\"convertToInteractive('df-ef62ba48-a32e-44c8-86c0-8dcb5c2405b0')\"\n",
              "              title=\"Convert this dataframe to an interactive table.\"\n",
              "              style=\"display:none;\">\n",
              "        \n",
              "  <svg xmlns=\"http://www.w3.org/2000/svg\" height=\"24px\"viewBox=\"0 0 24 24\"\n",
              "       width=\"24px\">\n",
              "    <path d=\"M0 0h24v24H0V0z\" fill=\"none\"/>\n",
              "    <path d=\"M18.56 5.44l.94 2.06.94-2.06 2.06-.94-2.06-.94-.94-2.06-.94 2.06-2.06.94zm-11 1L8.5 8.5l.94-2.06 2.06-.94-2.06-.94L8.5 2.5l-.94 2.06-2.06.94zm10 10l.94 2.06.94-2.06 2.06-.94-2.06-.94-.94-2.06-.94 2.06-2.06.94z\"/><path d=\"M17.41 7.96l-1.37-1.37c-.4-.4-.92-.59-1.43-.59-.52 0-1.04.2-1.43.59L10.3 9.45l-7.72 7.72c-.78.78-.78 2.05 0 2.83L4 21.41c.39.39.9.59 1.41.59.51 0 1.02-.2 1.41-.59l7.78-7.78 2.81-2.81c.8-.78.8-2.07 0-2.86zM5.41 20L4 18.59l7.72-7.72 1.47 1.35L5.41 20z\"/>\n",
              "  </svg>\n",
              "      </button>\n",
              "      \n",
              "  <style>\n",
              "    .colab-df-container {\n",
              "      display:flex;\n",
              "      flex-wrap:wrap;\n",
              "      gap: 12px;\n",
              "    }\n",
              "\n",
              "    .colab-df-convert {\n",
              "      background-color: #E8F0FE;\n",
              "      border: none;\n",
              "      border-radius: 50%;\n",
              "      cursor: pointer;\n",
              "      display: none;\n",
              "      fill: #1967D2;\n",
              "      height: 32px;\n",
              "      padding: 0 0 0 0;\n",
              "      width: 32px;\n",
              "    }\n",
              "\n",
              "    .colab-df-convert:hover {\n",
              "      background-color: #E2EBFA;\n",
              "      box-shadow: 0px 1px 2px rgba(60, 64, 67, 0.3), 0px 1px 3px 1px rgba(60, 64, 67, 0.15);\n",
              "      fill: #174EA6;\n",
              "    }\n",
              "\n",
              "    [theme=dark] .colab-df-convert {\n",
              "      background-color: #3B4455;\n",
              "      fill: #D2E3FC;\n",
              "    }\n",
              "\n",
              "    [theme=dark] .colab-df-convert:hover {\n",
              "      background-color: #434B5C;\n",
              "      box-shadow: 0px 1px 3px 1px rgba(0, 0, 0, 0.15);\n",
              "      filter: drop-shadow(0px 1px 2px rgba(0, 0, 0, 0.3));\n",
              "      fill: #FFFFFF;\n",
              "    }\n",
              "  </style>\n",
              "\n",
              "      <script>\n",
              "        const buttonEl =\n",
              "          document.querySelector('#df-ef62ba48-a32e-44c8-86c0-8dcb5c2405b0 button.colab-df-convert');\n",
              "        buttonEl.style.display =\n",
              "          google.colab.kernel.accessAllowed ? 'block' : 'none';\n",
              "\n",
              "        async function convertToInteractive(key) {\n",
              "          const element = document.querySelector('#df-ef62ba48-a32e-44c8-86c0-8dcb5c2405b0');\n",
              "          const dataTable =\n",
              "            await google.colab.kernel.invokeFunction('convertToInteractive',\n",
              "                                                     [key], {});\n",
              "          if (!dataTable) return;\n",
              "\n",
              "          const docLinkHtml = 'Like what you see? Visit the ' +\n",
              "            '<a target=\"_blank\" href=https://colab.research.google.com/notebooks/data_table.ipynb>data table notebook</a>'\n",
              "            + ' to learn more about interactive tables.';\n",
              "          element.innerHTML = '';\n",
              "          dataTable['output_type'] = 'display_data';\n",
              "          await google.colab.output.renderOutput(dataTable, element);\n",
              "          const docLink = document.createElement('div');\n",
              "          docLink.innerHTML = docLinkHtml;\n",
              "          element.appendChild(docLink);\n",
              "        }\n",
              "      </script>\n",
              "    </div>\n",
              "  </div>\n",
              "  "
            ]
          },
          "metadata": {},
          "execution_count": 170
        }
      ]
    },
    {
      "cell_type": "code",
      "source": [
        "#show_id is not at all required so dropping that row\n",
        "df.drop(\"show_id\",axis=1,inplace=True)"
      ],
      "metadata": {
        "id": "hkne60jGfsuM"
      },
      "execution_count": null,
      "outputs": []
    },
    {
      "cell_type": "markdown",
      "source": [
        "Adding Few more rows like Month,Date,DayName,Year from date_added column "
      ],
      "metadata": {
        "id": "LnaINWRzgZ8L"
      }
    },
    {
      "cell_type": "code",
      "source": [
        "#We will create 4 more columns\n",
        "df['date_added'] = pd.to_datetime(df['date_added'],dayfirst=False, errors='coerce').dt.date\n",
        "df[\"day_of_week\"]=pd.to_datetime(df[\"date_added\"]).dt.day_name()\n",
        "df[\"date_added\"]=df[\"date_added\"].astype(\"str\")\n",
        "df['year'] = df['date_added'].str.slice(0,4,1)\n",
        "df['month'] = df['date_added'].str.slice(5,7,1)\n",
        "df['day'] = df['date_added'].str.slice(8,10,1)"
      ],
      "metadata": {
        "id": "Pp0NBiJbgEjD"
      },
      "execution_count": null,
      "outputs": []
    },
    {
      "cell_type": "code",
      "source": [
        "#Now data will be\n",
        "df.head(10)"
      ],
      "metadata": {
        "colab": {
          "base_uri": "https://localhost:8080/",
          "height": 1153
        },
        "id": "SIYMEzz7gwMb",
        "outputId": "17841005-50ce-4f49-cd50-cdbeb4303e7f"
      },
      "execution_count": null,
      "outputs": [
        {
          "output_type": "execute_result",
          "data": {
            "text/plain": [
              "      type                             title                       director  \\\n",
              "0    Movie              Dick Johnson Is Dead                Kirsten Johnson   \n",
              "1  TV Show                     Blood & Water                  Missing Value   \n",
              "2  TV Show                         Ganglands                Julien Leclercq   \n",
              "3  TV Show             Jailbirds New Orleans                  Missing Value   \n",
              "4  TV Show                      Kota Factory                  Missing Value   \n",
              "5  TV Show                     Midnight Mass                  Mike Flanagan   \n",
              "6    Movie  My Little Pony: A New Generation  Robert Cullen, José Luis Ucha   \n",
              "7    Movie                           Sankofa                   Haile Gerima   \n",
              "8  TV Show     The Great British Baking Show                Andy Devonshire   \n",
              "9    Movie                      The Starling                 Theodore Melfi   \n",
              "\n",
              "                                                cast  \\\n",
              "0                                      Missing Value   \n",
              "1  Ama Qamata, Khosi Ngema, Gail Mabalane, Thaban...   \n",
              "2  Sami Bouajila, Tracy Gotoas, Samuel Jouy, Nabi...   \n",
              "3                                      Missing Value   \n",
              "4  Mayur More, Jitendra Kumar, Ranjan Raj, Alam K...   \n",
              "5  Kate Siegel, Zach Gilford, Hamish Linklater, H...   \n",
              "6  Vanessa Hudgens, Kimiko Glenn, James Marsden, ...   \n",
              "7  Kofi Ghanaba, Oyafunmike Ogunlano, Alexandra D...   \n",
              "8  Mel Giedroyc, Sue Perkins, Mary Berry, Paul Ho...   \n",
              "9  Melissa McCarthy, Chris O'Dowd, Kevin Kline, T...   \n",
              "\n",
              "                                             country  date_added  \\\n",
              "0                                      United States  2021-09-25   \n",
              "1                                       South Africa  2021-09-24   \n",
              "2                                      Missing Value  2021-09-24   \n",
              "3                                      Missing Value  2021-09-24   \n",
              "4                                              India  2021-09-24   \n",
              "5                                      Missing Value  2021-09-24   \n",
              "6                                      Missing Value  2021-09-24   \n",
              "7  United States, Ghana, Burkina Faso, United Kin...  2021-09-24   \n",
              "8                                     United Kingdom  2021-09-24   \n",
              "9                                      United States  2021-09-24   \n",
              "\n",
              "   release_year rating   duration  \\\n",
              "0          2020  PG-13     90 min   \n",
              "1          2021  TV-MA  2 Seasons   \n",
              "2          2021  TV-MA   1 Season   \n",
              "3          2021  TV-MA   1 Season   \n",
              "4          2021  TV-MA  2 Seasons   \n",
              "5          2021  TV-MA   1 Season   \n",
              "6          2021     PG     91 min   \n",
              "7          1993  TV-MA    125 min   \n",
              "8          2021  TV-14  9 Seasons   \n",
              "9          2021  PG-13    104 min   \n",
              "\n",
              "                                           listed_in  \\\n",
              "0                                      Documentaries   \n",
              "1    International TV Shows, TV Dramas, TV Mysteries   \n",
              "2  Crime TV Shows, International TV Shows, TV Act...   \n",
              "3                             Docuseries, Reality TV   \n",
              "4  International TV Shows, Romantic TV Shows, TV ...   \n",
              "5                 TV Dramas, TV Horror, TV Mysteries   \n",
              "6                           Children & Family Movies   \n",
              "7   Dramas, Independent Movies, International Movies   \n",
              "8                       British TV Shows, Reality TV   \n",
              "9                                   Comedies, Dramas   \n",
              "\n",
              "                                         description day_of_week  year month  \\\n",
              "0  As her father nears the end of his life, filmm...    Saturday  2021    09   \n",
              "1  After crossing paths at a party, a Cape Town t...      Friday  2021    09   \n",
              "2  To protect his family from a powerful drug lor...      Friday  2021    09   \n",
              "3  Feuds, flirtations and toilet talk go down amo...      Friday  2021    09   \n",
              "4  In a city of coaching centers known to train I...      Friday  2021    09   \n",
              "5  The arrival of a charismatic young priest brin...      Friday  2021    09   \n",
              "6  Equestria's divided. But a bright-eyed hero be...      Friday  2021    09   \n",
              "7  On a photo shoot in Ghana, an American model s...      Friday  2021    09   \n",
              "8  A talented batch of amateur bakers face off in...      Friday  2021    09   \n",
              "9  A woman adjusting to life after a loss contend...      Friday  2021    09   \n",
              "\n",
              "  day  \n",
              "0  25  \n",
              "1  24  \n",
              "2  24  \n",
              "3  24  \n",
              "4  24  \n",
              "5  24  \n",
              "6  24  \n",
              "7  24  \n",
              "8  24  \n",
              "9  24  "
            ],
            "text/html": [
              "\n",
              "  <div id=\"df-c0a85823-9fca-49d1-bc4b-363299cb0e33\">\n",
              "    <div class=\"colab-df-container\">\n",
              "      <div>\n",
              "<style scoped>\n",
              "    .dataframe tbody tr th:only-of-type {\n",
              "        vertical-align: middle;\n",
              "    }\n",
              "\n",
              "    .dataframe tbody tr th {\n",
              "        vertical-align: top;\n",
              "    }\n",
              "\n",
              "    .dataframe thead th {\n",
              "        text-align: right;\n",
              "    }\n",
              "</style>\n",
              "<table border=\"1\" class=\"dataframe\">\n",
              "  <thead>\n",
              "    <tr style=\"text-align: right;\">\n",
              "      <th></th>\n",
              "      <th>type</th>\n",
              "      <th>title</th>\n",
              "      <th>director</th>\n",
              "      <th>cast</th>\n",
              "      <th>country</th>\n",
              "      <th>date_added</th>\n",
              "      <th>release_year</th>\n",
              "      <th>rating</th>\n",
              "      <th>duration</th>\n",
              "      <th>listed_in</th>\n",
              "      <th>description</th>\n",
              "      <th>day_of_week</th>\n",
              "      <th>year</th>\n",
              "      <th>month</th>\n",
              "      <th>day</th>\n",
              "    </tr>\n",
              "  </thead>\n",
              "  <tbody>\n",
              "    <tr>\n",
              "      <th>0</th>\n",
              "      <td>Movie</td>\n",
              "      <td>Dick Johnson Is Dead</td>\n",
              "      <td>Kirsten Johnson</td>\n",
              "      <td>Missing Value</td>\n",
              "      <td>United States</td>\n",
              "      <td>2021-09-25</td>\n",
              "      <td>2020</td>\n",
              "      <td>PG-13</td>\n",
              "      <td>90 min</td>\n",
              "      <td>Documentaries</td>\n",
              "      <td>As her father nears the end of his life, filmm...</td>\n",
              "      <td>Saturday</td>\n",
              "      <td>2021</td>\n",
              "      <td>09</td>\n",
              "      <td>25</td>\n",
              "    </tr>\n",
              "    <tr>\n",
              "      <th>1</th>\n",
              "      <td>TV Show</td>\n",
              "      <td>Blood &amp; Water</td>\n",
              "      <td>Missing Value</td>\n",
              "      <td>Ama Qamata, Khosi Ngema, Gail Mabalane, Thaban...</td>\n",
              "      <td>South Africa</td>\n",
              "      <td>2021-09-24</td>\n",
              "      <td>2021</td>\n",
              "      <td>TV-MA</td>\n",
              "      <td>2 Seasons</td>\n",
              "      <td>International TV Shows, TV Dramas, TV Mysteries</td>\n",
              "      <td>After crossing paths at a party, a Cape Town t...</td>\n",
              "      <td>Friday</td>\n",
              "      <td>2021</td>\n",
              "      <td>09</td>\n",
              "      <td>24</td>\n",
              "    </tr>\n",
              "    <tr>\n",
              "      <th>2</th>\n",
              "      <td>TV Show</td>\n",
              "      <td>Ganglands</td>\n",
              "      <td>Julien Leclercq</td>\n",
              "      <td>Sami Bouajila, Tracy Gotoas, Samuel Jouy, Nabi...</td>\n",
              "      <td>Missing Value</td>\n",
              "      <td>2021-09-24</td>\n",
              "      <td>2021</td>\n",
              "      <td>TV-MA</td>\n",
              "      <td>1 Season</td>\n",
              "      <td>Crime TV Shows, International TV Shows, TV Act...</td>\n",
              "      <td>To protect his family from a powerful drug lor...</td>\n",
              "      <td>Friday</td>\n",
              "      <td>2021</td>\n",
              "      <td>09</td>\n",
              "      <td>24</td>\n",
              "    </tr>\n",
              "    <tr>\n",
              "      <th>3</th>\n",
              "      <td>TV Show</td>\n",
              "      <td>Jailbirds New Orleans</td>\n",
              "      <td>Missing Value</td>\n",
              "      <td>Missing Value</td>\n",
              "      <td>Missing Value</td>\n",
              "      <td>2021-09-24</td>\n",
              "      <td>2021</td>\n",
              "      <td>TV-MA</td>\n",
              "      <td>1 Season</td>\n",
              "      <td>Docuseries, Reality TV</td>\n",
              "      <td>Feuds, flirtations and toilet talk go down amo...</td>\n",
              "      <td>Friday</td>\n",
              "      <td>2021</td>\n",
              "      <td>09</td>\n",
              "      <td>24</td>\n",
              "    </tr>\n",
              "    <tr>\n",
              "      <th>4</th>\n",
              "      <td>TV Show</td>\n",
              "      <td>Kota Factory</td>\n",
              "      <td>Missing Value</td>\n",
              "      <td>Mayur More, Jitendra Kumar, Ranjan Raj, Alam K...</td>\n",
              "      <td>India</td>\n",
              "      <td>2021-09-24</td>\n",
              "      <td>2021</td>\n",
              "      <td>TV-MA</td>\n",
              "      <td>2 Seasons</td>\n",
              "      <td>International TV Shows, Romantic TV Shows, TV ...</td>\n",
              "      <td>In a city of coaching centers known to train I...</td>\n",
              "      <td>Friday</td>\n",
              "      <td>2021</td>\n",
              "      <td>09</td>\n",
              "      <td>24</td>\n",
              "    </tr>\n",
              "    <tr>\n",
              "      <th>5</th>\n",
              "      <td>TV Show</td>\n",
              "      <td>Midnight Mass</td>\n",
              "      <td>Mike Flanagan</td>\n",
              "      <td>Kate Siegel, Zach Gilford, Hamish Linklater, H...</td>\n",
              "      <td>Missing Value</td>\n",
              "      <td>2021-09-24</td>\n",
              "      <td>2021</td>\n",
              "      <td>TV-MA</td>\n",
              "      <td>1 Season</td>\n",
              "      <td>TV Dramas, TV Horror, TV Mysteries</td>\n",
              "      <td>The arrival of a charismatic young priest brin...</td>\n",
              "      <td>Friday</td>\n",
              "      <td>2021</td>\n",
              "      <td>09</td>\n",
              "      <td>24</td>\n",
              "    </tr>\n",
              "    <tr>\n",
              "      <th>6</th>\n",
              "      <td>Movie</td>\n",
              "      <td>My Little Pony: A New Generation</td>\n",
              "      <td>Robert Cullen, José Luis Ucha</td>\n",
              "      <td>Vanessa Hudgens, Kimiko Glenn, James Marsden, ...</td>\n",
              "      <td>Missing Value</td>\n",
              "      <td>2021-09-24</td>\n",
              "      <td>2021</td>\n",
              "      <td>PG</td>\n",
              "      <td>91 min</td>\n",
              "      <td>Children &amp; Family Movies</td>\n",
              "      <td>Equestria's divided. But a bright-eyed hero be...</td>\n",
              "      <td>Friday</td>\n",
              "      <td>2021</td>\n",
              "      <td>09</td>\n",
              "      <td>24</td>\n",
              "    </tr>\n",
              "    <tr>\n",
              "      <th>7</th>\n",
              "      <td>Movie</td>\n",
              "      <td>Sankofa</td>\n",
              "      <td>Haile Gerima</td>\n",
              "      <td>Kofi Ghanaba, Oyafunmike Ogunlano, Alexandra D...</td>\n",
              "      <td>United States, Ghana, Burkina Faso, United Kin...</td>\n",
              "      <td>2021-09-24</td>\n",
              "      <td>1993</td>\n",
              "      <td>TV-MA</td>\n",
              "      <td>125 min</td>\n",
              "      <td>Dramas, Independent Movies, International Movies</td>\n",
              "      <td>On a photo shoot in Ghana, an American model s...</td>\n",
              "      <td>Friday</td>\n",
              "      <td>2021</td>\n",
              "      <td>09</td>\n",
              "      <td>24</td>\n",
              "    </tr>\n",
              "    <tr>\n",
              "      <th>8</th>\n",
              "      <td>TV Show</td>\n",
              "      <td>The Great British Baking Show</td>\n",
              "      <td>Andy Devonshire</td>\n",
              "      <td>Mel Giedroyc, Sue Perkins, Mary Berry, Paul Ho...</td>\n",
              "      <td>United Kingdom</td>\n",
              "      <td>2021-09-24</td>\n",
              "      <td>2021</td>\n",
              "      <td>TV-14</td>\n",
              "      <td>9 Seasons</td>\n",
              "      <td>British TV Shows, Reality TV</td>\n",
              "      <td>A talented batch of amateur bakers face off in...</td>\n",
              "      <td>Friday</td>\n",
              "      <td>2021</td>\n",
              "      <td>09</td>\n",
              "      <td>24</td>\n",
              "    </tr>\n",
              "    <tr>\n",
              "      <th>9</th>\n",
              "      <td>Movie</td>\n",
              "      <td>The Starling</td>\n",
              "      <td>Theodore Melfi</td>\n",
              "      <td>Melissa McCarthy, Chris O'Dowd, Kevin Kline, T...</td>\n",
              "      <td>United States</td>\n",
              "      <td>2021-09-24</td>\n",
              "      <td>2021</td>\n",
              "      <td>PG-13</td>\n",
              "      <td>104 min</td>\n",
              "      <td>Comedies, Dramas</td>\n",
              "      <td>A woman adjusting to life after a loss contend...</td>\n",
              "      <td>Friday</td>\n",
              "      <td>2021</td>\n",
              "      <td>09</td>\n",
              "      <td>24</td>\n",
              "    </tr>\n",
              "  </tbody>\n",
              "</table>\n",
              "</div>\n",
              "      <button class=\"colab-df-convert\" onclick=\"convertToInteractive('df-c0a85823-9fca-49d1-bc4b-363299cb0e33')\"\n",
              "              title=\"Convert this dataframe to an interactive table.\"\n",
              "              style=\"display:none;\">\n",
              "        \n",
              "  <svg xmlns=\"http://www.w3.org/2000/svg\" height=\"24px\"viewBox=\"0 0 24 24\"\n",
              "       width=\"24px\">\n",
              "    <path d=\"M0 0h24v24H0V0z\" fill=\"none\"/>\n",
              "    <path d=\"M18.56 5.44l.94 2.06.94-2.06 2.06-.94-2.06-.94-.94-2.06-.94 2.06-2.06.94zm-11 1L8.5 8.5l.94-2.06 2.06-.94-2.06-.94L8.5 2.5l-.94 2.06-2.06.94zm10 10l.94 2.06.94-2.06 2.06-.94-2.06-.94-.94-2.06-.94 2.06-2.06.94z\"/><path d=\"M17.41 7.96l-1.37-1.37c-.4-.4-.92-.59-1.43-.59-.52 0-1.04.2-1.43.59L10.3 9.45l-7.72 7.72c-.78.78-.78 2.05 0 2.83L4 21.41c.39.39.9.59 1.41.59.51 0 1.02-.2 1.41-.59l7.78-7.78 2.81-2.81c.8-.78.8-2.07 0-2.86zM5.41 20L4 18.59l7.72-7.72 1.47 1.35L5.41 20z\"/>\n",
              "  </svg>\n",
              "      </button>\n",
              "      \n",
              "  <style>\n",
              "    .colab-df-container {\n",
              "      display:flex;\n",
              "      flex-wrap:wrap;\n",
              "      gap: 12px;\n",
              "    }\n",
              "\n",
              "    .colab-df-convert {\n",
              "      background-color: #E8F0FE;\n",
              "      border: none;\n",
              "      border-radius: 50%;\n",
              "      cursor: pointer;\n",
              "      display: none;\n",
              "      fill: #1967D2;\n",
              "      height: 32px;\n",
              "      padding: 0 0 0 0;\n",
              "      width: 32px;\n",
              "    }\n",
              "\n",
              "    .colab-df-convert:hover {\n",
              "      background-color: #E2EBFA;\n",
              "      box-shadow: 0px 1px 2px rgba(60, 64, 67, 0.3), 0px 1px 3px 1px rgba(60, 64, 67, 0.15);\n",
              "      fill: #174EA6;\n",
              "    }\n",
              "\n",
              "    [theme=dark] .colab-df-convert {\n",
              "      background-color: #3B4455;\n",
              "      fill: #D2E3FC;\n",
              "    }\n",
              "\n",
              "    [theme=dark] .colab-df-convert:hover {\n",
              "      background-color: #434B5C;\n",
              "      box-shadow: 0px 1px 3px 1px rgba(0, 0, 0, 0.15);\n",
              "      filter: drop-shadow(0px 1px 2px rgba(0, 0, 0, 0.3));\n",
              "      fill: #FFFFFF;\n",
              "    }\n",
              "  </style>\n",
              "\n",
              "      <script>\n",
              "        const buttonEl =\n",
              "          document.querySelector('#df-c0a85823-9fca-49d1-bc4b-363299cb0e33 button.colab-df-convert');\n",
              "        buttonEl.style.display =\n",
              "          google.colab.kernel.accessAllowed ? 'block' : 'none';\n",
              "\n",
              "        async function convertToInteractive(key) {\n",
              "          const element = document.querySelector('#df-c0a85823-9fca-49d1-bc4b-363299cb0e33');\n",
              "          const dataTable =\n",
              "            await google.colab.kernel.invokeFunction('convertToInteractive',\n",
              "                                                     [key], {});\n",
              "          if (!dataTable) return;\n",
              "\n",
              "          const docLinkHtml = 'Like what you see? Visit the ' +\n",
              "            '<a target=\"_blank\" href=https://colab.research.google.com/notebooks/data_table.ipynb>data table notebook</a>'\n",
              "            + ' to learn more about interactive tables.';\n",
              "          element.innerHTML = '';\n",
              "          dataTable['output_type'] = 'display_data';\n",
              "          await google.colab.output.renderOutput(dataTable, element);\n",
              "          const docLink = document.createElement('div');\n",
              "          docLink.innerHTML = docLinkHtml;\n",
              "          element.appendChild(docLink);\n",
              "        }\n",
              "      </script>\n",
              "    </div>\n",
              "  </div>\n",
              "  "
            ]
          },
          "metadata": {},
          "execution_count": 173
        }
      ]
    },
    {
      "cell_type": "markdown",
      "source": [
        "# Data Visualization and Data Analysis"
      ],
      "metadata": {
        "id": "tWmuBFIphUQm"
      }
    },
    {
      "cell_type": "markdown",
      "source": [
        "### Based on Type of Content(TV Shows vs Movies )"
      ],
      "metadata": {
        "id": "Smi0zTqNhl30"
      }
    },
    {
      "cell_type": "code",
      "source": [
        "x=df[\"type\"].value_counts()\n",
        "print(x)\n",
        "sns.barplot(x=x.index,y=x.values)"
      ],
      "metadata": {
        "colab": {
          "base_uri": "https://localhost:8080/",
          "height": 334
        },
        "id": "_qTayJdBg7-m",
        "outputId": "e8bfbd69-078d-4c41-f497-cb3394a6c642"
      },
      "execution_count": null,
      "outputs": [
        {
          "output_type": "stream",
          "name": "stdout",
          "text": [
            "Movie      6131\n",
            "TV Show    2676\n",
            "Name: type, dtype: int64\n"
          ]
        },
        {
          "output_type": "execute_result",
          "data": {
            "text/plain": [
              "<matplotlib.axes._subplots.AxesSubplot at 0x7fb278ea96d0>"
            ]
          },
          "metadata": {},
          "execution_count": 174
        },
        {
          "output_type": "display_data",
          "data": {
            "text/plain": [
              "<Figure size 432x288 with 1 Axes>"
            ],
            "image/png": "[encoded data removed]"
          },
          "metadata": {
            "needs_background": "light"
          }
        }
      ]
    },
    {
      "cell_type": "markdown",
      "source": [
        "Total Released movies are 6131 and TV shows are 2676\n"
      ],
      "metadata": {
        "id": "sciPsbw5iGPC"
      }
    },
    {
      "cell_type": "markdown",
      "source": [
        "## Movies Vs TV shows over the years"
      ],
      "metadata": {
        "id": "M0VcmwF7ifpy"
      }
    },
    {
      "cell_type": "code",
      "source": [
        "df_year=df.loc[df[\"release_year\"]>2000,[\"release_year\",\"type\"]]\n",
        "df_year=df_year.value_counts()\n",
        "plt.figure(figsize=(8,5))\n",
        "axs=sns.lineplot(data=df_year,x=str(\"release_year\"),hue=\"type\",y=df_year.values)\n",
        "axs.set(xlabel='Release Year', ylabel='Number')\n",
        "\n"
      ],
      "metadata": {
        "colab": {
          "base_uri": "https://localhost:8080/",
          "height": 353
        },
        "id": "1Upg8gXMinh_",
        "outputId": "e92e7961-b098-4d9c-8021-5bb2c4ca45f5"
      },
      "execution_count": null,
      "outputs": [
        {
          "output_type": "execute_result",
          "data": {
            "text/plain": [
              "[Text(0, 0.5, 'Number'), Text(0.5, 0, 'Release Year')]"
            ]
          },
          "metadata": {},
          "execution_count": 175
        },
        {
          "output_type": "display_data",
          "data": {
            "text/plain": [
              "<Figure size 576x360 with 1 Axes>"
            ],
            "image/png": "[encoded data removed]"
          },
          "metadata": {
            "needs_background": "light"
          }
        }
      ]
    },
    {
      "cell_type": "markdown",
      "source": [
        "Insights:\n",
        "\n",
        "*   Movies  has increased from 2000 till 2016.But from 2017 they have been decreasing\n",
        "*   TV Shows  has increased from 2000 till 2019.But from 2020 they have been decreasing\n",
        "* TV shows over took movies from 2020\n",
        "\n"
      ],
      "metadata": {
        "id": "TDs7GYlljPWR"
      }
    },
    {
      "cell_type": "markdown",
      "source": [
        "### Plot for Different ratings of content"
      ],
      "metadata": {
        "id": "1JoYPJ1KkUi4"
      }
    },
    {
      "cell_type": "code",
      "source": [
        "rating_plot=df['rating'].value_counts(ascending=False)\n",
        "print(rating_plot)\n",
        "ax=sns.barplot(x=rating_plot.index,y=rating_plot.values)\n",
        "ax.tick_params(axis='x', rotation=90)\n",
        "ax.set(xlabel='Rating', ylabel='Number')"
      ],
      "metadata": {
        "colab": {
          "base_uri": "https://localhost:8080/",
          "height": 591
        },
        "id": "AaxQ1rOsjNgP",
        "outputId": "0dcb32b5-3d6f-459f-a4f2-6dcdaa9ee548"
      },
      "execution_count": null,
      "outputs": [
        {
          "output_type": "stream",
          "name": "stdout",
          "text": [
            "TV-MA       3208\n",
            "TV-14       2161\n",
            "TV-PG        863\n",
            "R            799\n",
            "PG-13        494\n",
            "TV-Y7        334\n",
            "TV-Y         307\n",
            "PG           288\n",
            "TV-G         220\n",
            "NR            80\n",
            "G             41\n",
            "TV-Y7-FV       6\n",
            "NC-17          3\n",
            "UR             3\n",
            "Name: rating, dtype: int64\n"
          ]
        },
        {
          "output_type": "execute_result",
          "data": {
            "text/plain": [
              "[Text(0, 0.5, 'Number'), Text(0.5, 0, 'Rating')]"
            ]
          },
          "metadata": {},
          "execution_count": 176
        },
        {
          "output_type": "display_data",
          "data": {
            "text/plain": [
              "<Figure size 432x288 with 1 Axes>"
            ],
            "image/png": "[encoded data removed]"
          },
          "metadata": {
            "needs_background": "light"
          }
        }
      ]
    },
    {
      "cell_type": "markdown",
      "source": [
        "* \"TV-MA\" has more content overall of 3208 followed by TV-14\n",
        "\n",
        "\n",
        "\n",
        "\n"
      ],
      "metadata": {
        "id": "B-a5fMyukx-y"
      }
    },
    {
      "cell_type": "code",
      "source": [
        "rating_plot"
      ],
      "metadata": {
        "colab": {
          "base_uri": "https://localhost:8080/"
        },
        "id": "Q8jcN5Uulr5d",
        "outputId": "cd6cac92-9a18-47f1-ab81-016b16aae2ac"
      },
      "execution_count": null,
      "outputs": [
        {
          "output_type": "execute_result",
          "data": {
            "text/plain": [
              "TV-MA       3208\n",
              "TV-14       2161\n",
              "TV-PG        863\n",
              "R            799\n",
              "PG-13        494\n",
              "TV-Y7        334\n",
              "TV-Y         307\n",
              "PG           288\n",
              "TV-G         220\n",
              "NR            80\n",
              "G             41\n",
              "TV-Y7-FV       6\n",
              "NC-17          3\n",
              "UR             3\n",
              "Name: rating, dtype: int64"
            ]
          },
          "metadata": {},
          "execution_count": 177
        }
      ]
    },
    {
      "cell_type": "markdown",
      "source": [
        "Plot of Content Type based on Rating\n"
      ],
      "metadata": {
        "id": "2p3mLtFqnubL"
      }
    },
    {
      "cell_type": "code",
      "source": [
        "\n",
        "rating_plot=df[['rating',\"type\"]].value_counts(ascending=False)\n",
        "rating_plot=pd.DataFrame(rating_plot)\n",
        "print(rating_plot)\n",
        "rating_plot=rating_plot.reset_index()\n",
        "ax=sns.barplot(data=rating_plot,x=rating_plot.rating,y=rating_plot[0],hue=rating_plot.type)\n",
        "ax.tick_params(axis='x', rotation=90)\n",
        "ax.set(xlabel='Rating', ylabel='Number')"
      ],
      "metadata": {
        "colab": {
          "base_uri": "https://localhost:8080/",
          "height": 782
        },
        "id": "eMJEJ2WtiF2A",
        "outputId": "cfe4196a-c5eb-4d5b-b32b-84a5277a68a7"
      },
      "execution_count": null,
      "outputs": [
        {
          "output_type": "stream",
          "name": "stdout",
          "text": [
            "                     0\n",
            "rating   type         \n",
            "TV-MA    Movie    2063\n",
            "TV-14    Movie    1427\n",
            "TV-MA    TV Show  1145\n",
            "R        Movie     797\n",
            "TV-14    TV Show   734\n",
            "TV-PG    Movie     540\n",
            "PG-13    Movie     494\n",
            "TV-PG    TV Show   323\n",
            "PG       Movie     287\n",
            "TV-Y7    TV Show   195\n",
            "TV-Y     TV Show   176\n",
            "TV-Y7    Movie     139\n",
            "TV-Y     Movie     131\n",
            "TV-G     Movie     126\n",
            "         TV Show    94\n",
            "NR       Movie      75\n",
            "G        Movie      41\n",
            "NR       TV Show     5\n",
            "TV-Y7-FV Movie       5\n",
            "NC-17    Movie       3\n",
            "UR       Movie       3\n",
            "R        TV Show     2\n",
            "PG       TV Show     1\n",
            "TV-Y7-FV TV Show     1\n"
          ]
        },
        {
          "output_type": "execute_result",
          "data": {
            "text/plain": [
              "[Text(0, 0.5, 'Number'), Text(0.5, 0, 'Rating')]"
            ]
          },
          "metadata": {},
          "execution_count": 178
        },
        {
          "output_type": "display_data",
          "data": {
            "text/plain": [
              "<Figure size 432x288 with 1 Axes>"
            ],
            "image/png": "[encoded data removed]"
          },
          "metadata": {
            "needs_background": "light"
          }
        }
      ]
    },
    {
      "cell_type": "markdown",
      "source": [
        "### Content Based on Country"
      ],
      "metadata": {
        "id": "eLP8zRmGoBVW"
      }
    },
    {
      "cell_type": "code",
      "source": [
        "\n",
        "country_plot=df.loc[df[\"country\"]!=\"Missing Value\", 'country'].value_counts(ascending=False)\n",
        "country_plot=country_plot.head(10)\n",
        "ax=sns.barplot(x=country_plot.index,y=country_plot.values)\n",
        "ax.tick_params(axis='x', rotation=90)\n",
        "ax.set(xlabel='Country', ylabel='Number')\n",
        "print(country_plot)"
      ],
      "metadata": {
        "colab": {
          "base_uri": "https://localhost:8080/",
          "height": 541
        },
        "id": "xB2cDBZDoAug",
        "outputId": "e58d9ab3-d92e-4367-de8a-e71e114918da"
      },
      "execution_count": null,
      "outputs": [
        {
          "output_type": "stream",
          "name": "stdout",
          "text": [
            "United States     2818\n",
            "India              972\n",
            "United Kingdom     419\n",
            "Japan              245\n",
            "South Korea        199\n",
            "Canada             181\n",
            "Spain              145\n",
            "France             124\n",
            "Mexico             110\n",
            "Egypt              106\n",
            "Name: country, dtype: int64\n"
          ]
        },
        {
          "output_type": "display_data",
          "data": {
            "text/plain": [
              "<Figure size 432x288 with 1 Axes>"
            ],
            "image/png": "[encoded data removed]"
          },
          "metadata": {
            "needs_background": "light"
          }
        }
      ]
    },
    {
      "cell_type": "markdown",
      "source": [
        "United States has around total 2818 movies and TV shows,followed by India and United Kingdom"
      ],
      "metadata": {
        "id": "s1b1LXiHocJA"
      }
    },
    {
      "cell_type": "code",
      "source": [
        "country_plot=df.loc[df[\"country\"]!=\"Missing Value\",['country',\"type\"]].value_counts(ascending=False)\n",
        "country_plot=pd.DataFrame(country_plot)\n",
        "\n",
        "country_plot=country_plot.head(30)\n",
        "print(country_plot)\n",
        "country_plot=country_plot.reset_index()\n",
        "ax=sns.barplot(data=country_plot,x=country_plot.country,y=country_plot[0],hue=country_plot.type)\n",
        "ax.tick_params(axis='x', rotation=90)\n",
        "ax.set(xlabel='Country', ylabel='Number')"
      ],
      "metadata": {
        "colab": {
          "base_uri": "https://localhost:8080/",
          "height": 996
        },
        "id": "hwQyBIYCoT7v",
        "outputId": "2646f1b0-e525-4a0e-bf5e-8f39067dfed6"
      },
      "execution_count": null,
      "outputs": [
        {
          "output_type": "stream",
          "name": "stdout",
          "text": [
            "                                          0\n",
            "country                       type         \n",
            "United States                 Movie    2058\n",
            "India                         Movie     893\n",
            "United States                 TV Show   760\n",
            "United Kingdom                TV Show   213\n",
            "                              Movie     206\n",
            "Japan                         TV Show   169\n",
            "South Korea                   TV Show   158\n",
            "Canada                        Movie     122\n",
            "Spain                         Movie      97\n",
            "Egypt                         Movie      92\n",
            "Nigeria                       Movie      86\n",
            "India                         TV Show    79\n",
            "Indonesia                     Movie      77\n",
            "Turkey                        Movie      76\n",
            "Japan                         Movie      76\n",
            "France                        Movie      75\n",
            "Philippines                   Movie      73\n",
            "Mexico                        Movie      70\n",
            "Taiwan                        TV Show    68\n",
            "United Kingdom, United States Movie      63\n",
            "Canada                        TV Show    59\n",
            "United States, Canada         Movie      51\n",
            "Brazil                        Movie      50\n",
            "Hong Kong                     Movie      50\n",
            "France                        TV Show    49\n",
            "Australia                     TV Show    48\n",
            "Spain                         TV Show    48\n",
            "Germany                       Movie      47\n",
            "South Korea                   Movie      41\n",
            "Mexico                        TV Show    40\n"
          ]
        },
        {
          "output_type": "execute_result",
          "data": {
            "text/plain": [
              "[Text(0, 0.5, 'Number'), Text(0.5, 0, 'Country')]"
            ]
          },
          "metadata": {},
          "execution_count": 180
        },
        {
          "output_type": "display_data",
          "data": {
            "text/plain": [
              "<Figure size 432x288 with 1 Axes>"
            ],
            "image/png": "[encoded data removed]"
          },
          "metadata": {
            "needs_background": "light"
          }
        }
      ]
    },
    {
      "cell_type": "markdown",
      "source": [
        "Split the cast column and find Actor who acted in more TV shows and movies"
      ],
      "metadata": {
        "id": "ecZCeqy9qlHj"
      }
    },
    {
      "cell_type": "code",
      "source": [
        "#Spliting  the column by \",\"\n",
        "actor_s=df[\"cast\"].apply(lambda x: str(x).split(\",\")).tolist()\n"
      ],
      "metadata": {
        "id": "8HTsk2AihdnM"
      },
      "execution_count": null,
      "outputs": []
    },
    {
      "cell_type": "code",
      "source": [
        "#Creating New Data Frame and then stacking\n",
        "df_new=pd.DataFrame(actor_s,index=df[\"title\"])\n",
        "df_new=df_new.stack()"
      ],
      "metadata": {
        "id": "78CHNZGAhdpk"
      },
      "execution_count": null,
      "outputs": []
    },
    {
      "cell_type": "code",
      "source": [
        "#\n",
        "df_new=pd.DataFrame(df_new.reset_index())\n",
        "df_new.rename(columns={0:\"Actors\"},inplace=True)\n",
        "df_new.drop([\"level_1\"],axis=1,inplace=True)"
      ],
      "metadata": {
        "id": "VUDwB5qZrDKB"
      },
      "execution_count": null,
      "outputs": []
    },
    {
      "cell_type": "code",
      "source": [
        "df_final=df_new.merge(df,on=\"title\")"
      ],
      "metadata": {
        "id": "Kk4TBo62hdtm"
      },
      "execution_count": null,
      "outputs": []
    },
    {
      "cell_type": "code",
      "source": [
        "y=df_final.loc[df_final[\"Actors\"]!=\"Missing Value\",\"Actors\"].value_counts()\n",
        "y=y.head(10)\n",
        "axs=sns.barplot(x=y.index,y=y.values)\n",
        "axs.tick_params(axis='x', rotation=90)\n",
        "axs.set(xlabel=\"Actors\",ylabel=\"Number of TV shows and Movies\")\n",
        "print(y)"
      ],
      "metadata": {
        "colab": {
          "base_uri": "https://localhost:8080/",
          "height": 545
        },
        "id": "Q-cmnHGErP6Q",
        "outputId": "63fba648-c645-46fb-8d35-ade8c6131872"
      },
      "execution_count": null,
      "outputs": [
        {
          "output_type": "stream",
          "name": "stdout",
          "text": [
            " Anupam Kher         39\n",
            " Rupa Bhimani        31\n",
            " Takahiro Sakurai    30\n",
            " Julie Tejwani       28\n",
            " Om Puri             27\n",
            " Rajesh Kava         26\n",
            "Shah Rukh Khan       26\n",
            " Yuki Kaji           25\n",
            " Paresh Rawal        25\n",
            " Andrea Libman       25\n",
            "Name: Actors, dtype: int64\n"
          ]
        },
        {
          "output_type": "display_data",
          "data": {
            "text/plain": [
              "<Figure size 432x288 with 1 Axes>"
            ],
            "image/png": "[encoded data removed]"
          },
          "metadata": {
            "needs_background": "light"
          }
        }
      ]
    },
    {
      "cell_type": "markdown",
      "source": [
        "Insights: \n",
        "Anupam Kher acted in more Movies and TV shows than anyone i.e. 39 followed by Rupa Bhimani"
      ],
      "metadata": {
        "id": "v8puLum-r9aE"
      }
    },
    {
      "cell_type": "markdown",
      "source": [
        "Similarly we split and analyse for Director column"
      ],
      "metadata": {
        "id": "kXHFAi0qsa2B"
      }
    },
    {
      "cell_type": "code",
      "source": [
        "director_c=df[\"director\"].apply(lambda x: str(x).split(\",\")).tolist()\n",
        "df_dir=pd.DataFrame(director_c,index=df[\"title\"])\n",
        "df_dir=df_dir.stack()\n",
        "df_dir=pd.DataFrame(df_dir.reset_index())\n",
        "df_dir.rename(columns={0:\"Directors\"},inplace=True)\n",
        "df_dir.drop([\"level_1\"],axis=1,inplace=True)\n",
        "df_dir=df_dir.merge(df,on=\"title\")"
      ],
      "metadata": {
        "id": "sLMk_Mj_hdvq"
      },
      "execution_count": null,
      "outputs": []
    },
    {
      "cell_type": "code",
      "source": [
        "z=df_dir.loc[df_dir[\"Directors\"]!=\"Missing Value\",\"Directors\"].value_counts()\n",
        "z=z.head(10)\n",
        "axs=sns.barplot(x=z.index,y=z.values)\n",
        "axs.tick_params(axis='x', rotation=90)\n",
        "axs.set(xlabel=\"Directors\",ylabel=\"Number of TV shows and Movies\")\n",
        "print(z)"
      ],
      "metadata": {
        "colab": {
          "base_uri": "https://localhost:8080/",
          "height": 561
        },
        "id": "z_K-731zswuY",
        "outputId": "5e45b0cd-6cb0-4eab-877f-1d4afcb110df"
      },
      "execution_count": null,
      "outputs": [
        {
          "output_type": "stream",
          "name": "stdout",
          "text": [
            "Rajiv Chilaka          22\n",
            "Raúl Campos            18\n",
            " Jan Suter             18\n",
            "Marcus Raboy           16\n",
            "Suhas Kadav            16\n",
            "Jay Karas              15\n",
            "Cathy Garcia-Molina    13\n",
            "Martin Scorsese        12\n",
            "Jay Chapman            12\n",
            "Youssef Chahine        12\n",
            "Name: Directors, dtype: int64\n"
          ]
        },
        {
          "output_type": "display_data",
          "data": {
            "text/plain": [
              "<Figure size 432x288 with 1 Axes>"
            ],
            "image/png": "[encoded data removed]"
          },
          "metadata": {
            "needs_background": "light"
          }
        }
      ]
    },
    {
      "cell_type": "markdown",
      "source": [
        "Rajiv Chilaka  has acted in 22 Movies and TV shows more than any actor\n",
        "\n"
      ],
      "metadata": {
        "id": "oXrI_mjItDzw"
      }
    },
    {
      "cell_type": "markdown",
      "source": [
        "### Similary for Genre and plotting it"
      ],
      "metadata": {
        "id": "jhQwkKawuP_f"
      }
    },
    {
      "cell_type": "code",
      "source": [
        "genre=df[\"listed_in\"].apply(lambda x: str(x).split(\",\")).tolist()\n",
        "genre[2]\n",
        "df_genre=pd.DataFrame(genre,index=df[\"title\"])\n",
        "df_genre=df_genre.stack()\n",
        "df_genre=pd.DataFrame(df_genre.reset_index())\n",
        "\n",
        "df_genre.rename(columns={0:\"Genres\"},inplace=True)\n",
        "df_genre.drop([\"level_1\"],axis=1,inplace=True)"
      ],
      "metadata": {
        "id": "KqAUqrrTs0Tl"
      },
      "execution_count": null,
      "outputs": []
    },
    {
      "cell_type": "code",
      "source": [],
      "metadata": {
        "id": "ovGEeCmuukWc"
      },
      "execution_count": null,
      "outputs": []
    },
    {
      "cell_type": "code",
      "source": [
        "#Here \"Dramas\" has misspelled as \" Dramas\"\n",
        "df_genre=df_genre.merge(df,on=\"title\")\n",
        "df_genre.loc[df_genre[\"Genres\"]==\" Dramas\",\"Genres\"]=\"Dramas\""
      ],
      "metadata": {
        "id": "-s5PaCpAtlBg"
      },
      "execution_count": null,
      "outputs": []
    },
    {
      "cell_type": "code",
      "source": [
        "a=df_genre.loc[df_genre[\"Genres\"]!=\"Missing Value\",\"Genres\"].value_counts()\n",
        "a=a.head(10)\n",
        "print(a)"
      ],
      "metadata": {
        "colab": {
          "base_uri": "https://localhost:8080/"
        },
        "id": "omXnGVfGtq1c",
        "outputId": "d6a77df6-ce53-47f5-f8ce-6aa822c8f003"
      },
      "execution_count": null,
      "outputs": [
        {
          "output_type": "stream",
          "name": "stdout",
          "text": [
            " International Movies       2624\n",
            "Dramas                      2427\n",
            "Comedies                    1210\n",
            "Action & Adventure           859\n",
            "Documentaries                829\n",
            "International TV Shows       774\n",
            " Independent Movies          736\n",
            " TV Dramas                   696\n",
            " Romantic Movies             613\n",
            "Children & Family Movies     605\n",
            "Name: Genres, dtype: int64\n"
          ]
        }
      ]
    },
    {
      "cell_type": "code",
      "source": [
        "a=df_genre.loc[df_genre[\"Genres\"]!=\"Missing Value\",\"Genres\"].value_counts()\n",
        "a=a.head(10)\n",
        "axs=sns.barplot(x=a.index,y=a.values)\n",
        "axs.tick_params(axis='x', rotation=90)"
      ],
      "metadata": {
        "colab": {
          "base_uri": "https://localhost:8080/",
          "height": 381
        },
        "id": "9HcVuBA8ttO_",
        "outputId": "25f8fe00-25a7-4bb1-bd73-6772b68c9941"
      },
      "execution_count": null,
      "outputs": [
        {
          "output_type": "display_data",
          "data": {
            "text/plain": [
              "<Figure size 432x288 with 1 Axes>"
            ],
            "image/png": "[encoded data removed]"
          },
          "metadata": {
            "needs_background": "light"
          }
        }
      ]
    },
    {
      "cell_type": "markdown",
      "source": [
        "International Movies genre is most common Genre followed by Dramas"
      ],
      "metadata": {
        "id": "rf_LRJUXuZ6m"
      }
    },
    {
      "cell_type": "markdown",
      "source": [
        "### Content by Day Name"
      ],
      "metadata": {
        "id": "TxCIBP8uux-Z"
      }
    },
    {
      "cell_type": "code",
      "source": [
        "#sorting and plotting content based on Day of the week\n",
        "dfday=df[\"day_of_week\"]\n",
        "dfday=dfday.sort_values()\n",
        "axs=sns.histplot(data=dfday,x=dfday.values)\n",
        "axs.tick_params(axis='x', rotation=90)\n",
        "axs.set(xlabel=\"Day of the Week\",ylabel=\"Total Number\")"
      ],
      "metadata": {
        "colab": {
          "base_uri": "https://localhost:8080/",
          "height": 344
        },
        "id": "68l3bAIeuJIW",
        "outputId": "498920b4-3306-4efb-995f-b269eca38069"
      },
      "execution_count": null,
      "outputs": [
        {
          "output_type": "execute_result",
          "data": {
            "text/plain": [
              "[Text(0, 0.5, 'Total Number'), Text(0.5, 0, 'Day of the Week')]"
            ]
          },
          "metadata": {},
          "execution_count": 192
        },
        {
          "output_type": "display_data",
          "data": {
            "text/plain": [
              "<Figure size 432x288 with 1 Axes>"
            ],
            "image/png": "[encoded data removed]"
          },
          "metadata": {
            "needs_background": "light"
          }
        }
      ]
    },
    {
      "cell_type": "markdown",
      "source": [
        "More Content is released on Friday than other days"
      ],
      "metadata": {
        "id": "7zCkoFh7vbgH"
      }
    },
    {
      "cell_type": "code",
      "source": [
        "\n",
        "dfm=df.loc[df[\"year\"]!=\"NaT\",\"day\"]\n",
        "dfm=dfm.sort_values()\n",
        "axs=sns.histplot(data=dfm,x=dfm.values)\n",
        "axs.tick_params(axis='x', rotation=90)\n",
        "axs.set(xlabel=\"Day of Month\",ylabel=\"Total Movies and TV Shows\")"
      ],
      "metadata": {
        "colab": {
          "base_uri": "https://localhost:8080/",
          "height": 299
        },
        "id": "ZoyZnItbwNXf",
        "outputId": "693d582b-1b8f-477d-b3d6-600b0aab8b6e"
      },
      "execution_count": null,
      "outputs": [
        {
          "output_type": "execute_result",
          "data": {
            "text/plain": [
              "[Text(0, 0.5, 'Total Movies and TV Shows'), Text(0.5, 0, 'Day of Month')]"
            ]
          },
          "metadata": {},
          "execution_count": 193
        },
        {
          "output_type": "display_data",
          "data": {
            "text/plain": [
              "<Figure size 432x288 with 1 Axes>"
            ],
            "image/png": "[encoded data removed]"
          },
          "metadata": {
            "needs_background": "light"
          }
        }
      ]
    },
    {
      "cell_type": "markdown",
      "source": [
        "More Content is listed on 1st of every month than any other day"
      ],
      "metadata": {
        "id": "etlTWwfnwf3r"
      }
    },
    {
      "cell_type": "code",
      "source": [],
      "metadata": {
        "id": "f2N56KD4wNUj"
      },
      "execution_count": null,
      "outputs": []
    },
    {
      "cell_type": "code",
      "source": [],
      "metadata": {
        "id": "iUKKQ4ylwNSv"
      },
      "execution_count": null,
      "outputs": []
    },
    {
      "cell_type": "markdown",
      "source": [
        "### Correlation between Release Year and Listed Year"
      ],
      "metadata": {
        "id": "CHtZW_fnvVcw"
      }
    },
    {
      "cell_type": "code",
      "source": [
        "#Correlation matrix between year and release year\n",
        "data=df.loc[df[\"year\"]!=\"NaT\",[\"year\",\"release_year\"]]\n",
        "# data.loc[\"release_year\"]=data[\"release_year\"].astype(\"int64\")\n",
        "data[\"year\"]=data[\"year\"].astype(\"int64\")\n",
        "data[\"release_year\"].value_counts()\n",
        "data.corr(\"pearson\")\n",
        "\n"
      ],
      "metadata": {
        "colab": {
          "base_uri": "https://localhost:8080/",
          "height": 112
        },
        "id": "WsJ4upNWu-UL",
        "outputId": "d54a5e37-e66d-4388-ac38-13dd2dcf9f74"
      },
      "execution_count": null,
      "outputs": [
        {
          "output_type": "execute_result",
          "data": {
            "text/plain": [
              "                  year  release_year\n",
              "year          1.000000      0.111531\n",
              "release_year  0.111531      1.000000"
            ],
            "text/html": [
              "\n",
              "  <div id=\"df-cb1698c0-b03c-4e3e-9be0-a2c688f6ee92\">\n",
              "    <div class=\"colab-df-container\">\n",
              "      <div>\n",
              "<style scoped>\n",
              "    .dataframe tbody tr th:only-of-type {\n",
              "        vertical-align: middle;\n",
              "    }\n",
              "\n",
              "    .dataframe tbody tr th {\n",
              "        vertical-align: top;\n",
              "    }\n",
              "\n",
              "    .dataframe thead th {\n",
              "        text-align: right;\n",
              "    }\n",
              "</style>\n",
              "<table border=\"1\" class=\"dataframe\">\n",
              "  <thead>\n",
              "    <tr style=\"text-align: right;\">\n",
              "      <th></th>\n",
              "      <th>year</th>\n",
              "      <th>release_year</th>\n",
              "    </tr>\n",
              "  </thead>\n",
              "  <tbody>\n",
              "    <tr>\n",
              "      <th>year</th>\n",
              "      <td>1.000000</td>\n",
              "      <td>0.111531</td>\n",
              "    </tr>\n",
              "    <tr>\n",
              "      <th>release_year</th>\n",
              "      <td>0.111531</td>\n",
              "      <td>1.000000</td>\n",
              "    </tr>\n",
              "  </tbody>\n",
              "</table>\n",
              "</div>\n",
              "      <button class=\"colab-df-convert\" onclick=\"convertToInteractive('df-cb1698c0-b03c-4e3e-9be0-a2c688f6ee92')\"\n",
              "              title=\"Convert this dataframe to an interactive table.\"\n",
              "              style=\"display:none;\">\n",
              "        \n",
              "  <svg xmlns=\"http://www.w3.org/2000/svg\" height=\"24px\"viewBox=\"0 0 24 24\"\n",
              "       width=\"24px\">\n",
              "    <path d=\"M0 0h24v24H0V0z\" fill=\"none\"/>\n",
              "    <path d=\"M18.56 5.44l.94 2.06.94-2.06 2.06-.94-2.06-.94-.94-2.06-.94 2.06-2.06.94zm-11 1L8.5 8.5l.94-2.06 2.06-.94-2.06-.94L8.5 2.5l-.94 2.06-2.06.94zm10 10l.94 2.06.94-2.06 2.06-.94-2.06-.94-.94-2.06-.94 2.06-2.06.94z\"/><path d=\"M17.41 7.96l-1.37-1.37c-.4-.4-.92-.59-1.43-.59-.52 0-1.04.2-1.43.59L10.3 9.45l-7.72 7.72c-.78.78-.78 2.05 0 2.83L4 21.41c.39.39.9.59 1.41.59.51 0 1.02-.2 1.41-.59l7.78-7.78 2.81-2.81c.8-.78.8-2.07 0-2.86zM5.41 20L4 18.59l7.72-7.72 1.47 1.35L5.41 20z\"/>\n",
              "  </svg>\n",
              "      </button>\n",
              "      \n",
              "  <style>\n",
              "    .colab-df-container {\n",
              "      display:flex;\n",
              "      flex-wrap:wrap;\n",
              "      gap: 12px;\n",
              "    }\n",
              "\n",
              "    .colab-df-convert {\n",
              "      background-color: #E8F0FE;\n",
              "      border: none;\n",
              "      border-radius: 50%;\n",
              "      cursor: pointer;\n",
              "      display: none;\n",
              "      fill: #1967D2;\n",
              "      height: 32px;\n",
              "      padding: 0 0 0 0;\n",
              "      width: 32px;\n",
              "    }\n",
              "\n",
              "    .colab-df-convert:hover {\n",
              "      background-color: #E2EBFA;\n",
              "      box-shadow: 0px 1px 2px rgba(60, 64, 67, 0.3), 0px 1px 3px 1px rgba(60, 64, 67, 0.15);\n",
              "      fill: #174EA6;\n",
              "    }\n",
              "\n",
              "    [theme=dark] .colab-df-convert {\n",
              "      background-color: #3B4455;\n",
              "      fill: #D2E3FC;\n",
              "    }\n",
              "\n",
              "    [theme=dark] .colab-df-convert:hover {\n",
              "      background-color: #434B5C;\n",
              "      box-shadow: 0px 1px 3px 1px rgba(0, 0, 0, 0.15);\n",
              "      filter: drop-shadow(0px 1px 2px rgba(0, 0, 0, 0.3));\n",
              "      fill: #FFFFFF;\n",
              "    }\n",
              "  </style>\n",
              "\n",
              "      <script>\n",
              "        const buttonEl =\n",
              "          document.querySelector('#df-cb1698c0-b03c-4e3e-9be0-a2c688f6ee92 button.colab-df-convert');\n",
              "        buttonEl.style.display =\n",
              "          google.colab.kernel.accessAllowed ? 'block' : 'none';\n",
              "\n",
              "        async function convertToInteractive(key) {\n",
              "          const element = document.querySelector('#df-cb1698c0-b03c-4e3e-9be0-a2c688f6ee92');\n",
              "          const dataTable =\n",
              "            await google.colab.kernel.invokeFunction('convertToInteractive',\n",
              "                                                     [key], {});\n",
              "          if (!dataTable) return;\n",
              "\n",
              "          const docLinkHtml = 'Like what you see? Visit the ' +\n",
              "            '<a target=\"_blank\" href=https://colab.research.google.com/notebooks/data_table.ipynb>data table notebook</a>'\n",
              "            + ' to learn more about interactive tables.';\n",
              "          element.innerHTML = '';\n",
              "          dataTable['output_type'] = 'display_data';\n",
              "          await google.colab.output.renderOutput(dataTable, element);\n",
              "          const docLink = document.createElement('div');\n",
              "          docLink.innerHTML = docLinkHtml;\n",
              "          element.appendChild(docLink);\n",
              "        }\n",
              "      </script>\n",
              "    </div>\n",
              "  </div>\n",
              "  "
            ]
          },
          "metadata": {},
          "execution_count": 194
        }
      ]
    },
    {
      "cell_type": "code",
      "source": [
        "#Heatmap\n",
        "sns.heatmap(data.corr(),annot=True)"
      ],
      "metadata": {
        "colab": {
          "base_uri": "https://localhost:8080/",
          "height": 287
        },
        "id": "jovbETtPvjvL",
        "outputId": "a783ee6c-ae82-413c-fb8e-5c62e308c785"
      },
      "execution_count": null,
      "outputs": [
        {
          "output_type": "execute_result",
          "data": {
            "text/plain": [
              "<matplotlib.axes._subplots.AxesSubplot at 0x7fb278075690>"
            ]
          },
          "metadata": {},
          "execution_count": 195
        },
        {
          "output_type": "display_data",
          "data": {
            "text/plain": [
              "<Figure size 432x288 with 2 Axes>"
            ],
            "image/png": "[encoded data removed]"
          },
          "metadata": {
            "needs_background": "light"
          }
        }
      ]
    },
    {
      "cell_type": "markdown",
      "source": [
        "Listed Year and Release Year have correlation of 0.11 that implies 11% of content released get listed on Netflix that year itself"
      ],
      "metadata": {
        "id": "zklawztxvwQB"
      }
    },
    {
      "cell_type": "code",
      "source": [],
      "metadata": {
        "id": "cRnX2fY-vtYL"
      },
      "execution_count": null,
      "outputs": []
    }
  ]
}